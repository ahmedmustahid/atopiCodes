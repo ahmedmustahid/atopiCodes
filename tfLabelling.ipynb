{
 "cells": [
  {
   "cell_type": "code",
   "execution_count": 1,
   "id": "9ac16ef7-8019-4943-a353-dedee9e83cab",
   "metadata": {},
   "outputs": [],
   "source": [
    "import tensorflow as tf"
   ]
  },
  {
   "cell_type": "code",
   "execution_count": 2,
   "id": "7f75bd51-7d75-46c2-8796-9b85f8b55afd",
   "metadata": {},
   "outputs": [],
   "source": [
    "import pathlib\n",
    "import os\n",
    "import matplotlib.pyplot as plt\n",
    "import pandas as pd\n",
    "import numpy as np\n",
    "\n",
    "np.set_printoptions(precision=4)"
   ]
  },
  {
   "cell_type": "code",
   "execution_count": 3,
   "id": "5bea14a3-063f-438d-b61c-f8cdac664526",
   "metadata": {},
   "outputs": [
    {
     "name": "stdout",
     "output_type": "stream",
     "text": [
      "Downloading data from https://storage.googleapis.com/download.tensorflow.org/example_images/flower_photos.tgz\n",
      "228818944/228813984 [==============================] - 7s 0us/step\n",
      "228827136/228813984 [==============================] - 7s 0us/step\n"
     ]
    }
   ],
   "source": [
    "flowers_root = tf.keras.utils.get_file(\n",
    "    'flower_photos',\n",
    "    'https://storage.googleapis.com/download.tensorflow.org/example_images/flower_photos.tgz',\n",
    "    untar=True)\n",
    "flowers_root = pathlib.Path(flowers_root)"
   ]
  },
  {
   "cell_type": "code",
   "execution_count": 4,
   "id": "ab1e848b-f620-4dff-86ee-b6adb2d9e961",
   "metadata": {},
   "outputs": [
    {
     "data": {
      "text/plain": [
       "PosixPath('/home/ahmed/.keras/datasets/flower_photos')"
      ]
     },
     "execution_count": 4,
     "metadata": {},
     "output_type": "execute_result"
    }
   ],
   "source": [
    "flowers_root"
   ]
  },
  {
   "cell_type": "code",
   "execution_count": 5,
   "id": "aa238f51-4387-4bcf-844b-7c557c5d5df7",
   "metadata": {},
   "outputs": [
    {
     "name": "stdout",
     "output_type": "stream",
     "text": [
      "dandelion\n",
      "sunflowers\n",
      "LICENSE.txt\n",
      "tulips\n",
      "daisy\n",
      "roses\n"
     ]
    }
   ],
   "source": [
    "for item in flowers_root.glob(\"*\"):\n",
    "  print(item.name)"
   ]
  },
  {
   "cell_type": "code",
   "execution_count": 6,
   "id": "a6e3e791-8c8e-4524-b347-717b30f3f591",
   "metadata": {},
   "outputs": [],
   "source": [
    "list_ds = tf.data.Dataset.list_files(str(flowers_root/'*/*'))"
   ]
  },
  {
   "cell_type": "code",
   "execution_count": 7,
   "id": "61198c5b-1a73-4588-b446-ad01337b758b",
   "metadata": {},
   "outputs": [
    {
     "name": "stdout",
     "output_type": "stream",
     "text": [
      "b'/home/ahmed/.keras/datasets/flower_photos/daisy/9345273630_af3550031d.jpg'\n",
      "b'/home/ahmed/.keras/datasets/flower_photos/tulips/14094114202_4c1d7f1116.jpg'\n",
      "b'/home/ahmed/.keras/datasets/flower_photos/sunflowers/5223643767_d8beb7e410.jpg'\n",
      "b'/home/ahmed/.keras/datasets/flower_photos/daisy/15327813273_06cdf42210.jpg'\n",
      "b'/home/ahmed/.keras/datasets/flower_photos/tulips/13531001134_72052100e1_m.jpg'\n"
     ]
    }
   ],
   "source": [
    "for f in list_ds.take(5):\n",
    "  print(f.numpy())"
   ]
  },
  {
   "cell_type": "code",
   "execution_count": 8,
   "id": "01c7700f-cd25-48d8-bd37-69f1d805b226",
   "metadata": {},
   "outputs": [],
   "source": [
    "def process_path(file_path):\n",
    "  label = tf.strings.split(file_path, os.sep)[-2]\n",
    "  return tf.io.read_file(file_path), label\n",
    "\n",
    "labeled_ds = list_ds.map(process_path)"
   ]
  },
  {
   "cell_type": "code",
   "execution_count": 9,
   "id": "5b896d88-489c-40ed-909b-58cedd810a67",
   "metadata": {},
   "outputs": [
    {
     "data": {
      "text/plain": [
       "<MapDataset shapes: ((), ()), types: (tf.string, tf.string)>"
      ]
     },
     "execution_count": 9,
     "metadata": {},
     "output_type": "execute_result"
    }
   ],
   "source": [
    "labeled_ds"
   ]
  },
  {
   "cell_type": "code",
   "execution_count": 10,
   "id": "3cad0423-beb5-4c48-9249-070abe4cb1c8",
   "metadata": {},
   "outputs": [
    {
     "name": "stdout",
     "output_type": "stream",
     "text": [
      "b'\\xff\\xd8\\xff\\xe0\\x00\\x10JFIF\\x00\\x01\\x01\\x01\\x00H\\x00H\\x00\\x00\\xff\\xdb\\x00C\\x00\\x01\\x01\\x01\\x01\\x01\\x01\\x01\\x01\\x01\\x01\\x01\\x01\\x01\\x02\\x02\\x03\\x02\\x02\\x02\\x02\\x02\\x04\\x03\\x03\\x02\\x03\\x05\\x04\\x05\\x05\\x05\\x04\\x04\\x04\\x05\\x06\\x07\\x06\\x05\\x05\\x07\\x06\\x04\\x04\\x06\\t\\x06\\x07\\x08\\x08\\x08\\x08\\x08\\x05\\x06\\t\\n\\t\\x08\\n\\x07\\x08\\x08\\x08\\xff\\xdb\\x00C\\x01\\x01\\x01\\x01\\x02\\x02\\x02'\n",
      "\n",
      "b'roses'\n"
     ]
    }
   ],
   "source": [
    "for image_raw, label_text in labeled_ds.take(1):\n",
    "  print(repr(image_raw.numpy()[:100]))\n",
    "  print()\n",
    "  print(label_text.numpy())"
   ]
  },
  {
   "cell_type": "code",
   "execution_count": 23,
   "id": "3e70ded3-69c8-4c2e-998b-ecfeaab6077a",
   "metadata": {},
   "outputs": [
    {
     "name": "stdout",
     "output_type": "stream",
     "text": [
      "(TensorSpec(shape=(None,), dtype=tf.int64, name=None), TensorSpec(shape=(None,), dtype=tf.int64, name=None))\n",
      "[array([0, 1, 2, 3]), array([ 0, -1, -2, -3])]\n",
      "[array([4, 5, 6, 7]), array([-4, -5, -6, -7])]\n",
      "[array([ 8,  9, 10, 11]), array([ -8,  -9, -10, -11])]\n",
      "[array([12, 13, 14, 15]), array([-12, -13, -14, -15])]\n",
      "[array([16, 17, 18, 19]), array([-16, -17, -18, -19])]\n",
      "[array([20, 21, 22, 23]), array([-20, -21, -22, -23])]\n",
      "[array([24, 25, 26, 27]), array([-24, -25, -26, -27])]\n",
      "[array([28, 29, 30, 31]), array([-28, -29, -30, -31])]\n",
      "[array([32, 33, 34, 35]), array([-32, -33, -34, -35])]\n",
      "[array([36, 37, 38, 39]), array([-36, -37, -38, -39])]\n",
      "[array([40, 41, 42, 43]), array([-40, -41, -42, -43])]\n",
      "[array([44, 45, 46, 47]), array([-44, -45, -46, -47])]\n",
      "[array([48, 49, 50, 51]), array([-48, -49, -50, -51])]\n",
      "[array([52, 53, 54, 55]), array([-52, -53, -54, -55])]\n",
      "[array([56, 57, 58, 59]), array([-56, -57, -58, -59])]\n",
      "[array([60, 61, 62, 63]), array([-60, -61, -62, -63])]\n",
      "[array([64, 65, 66, 67]), array([-64, -65, -66, -67])]\n",
      "[array([68, 69, 70, 71]), array([-68, -69, -70, -71])]\n",
      "[array([72, 73, 74, 75]), array([-72, -73, -74, -75])]\n",
      "[array([76, 77, 78, 79]), array([-76, -77, -78, -79])]\n",
      "[array([80, 81, 82, 83]), array([-80, -81, -82, -83])]\n",
      "[array([84, 85, 86, 87]), array([-84, -85, -86, -87])]\n",
      "[array([88, 89, 90, 91]), array([-88, -89, -90, -91])]\n",
      "[array([92, 93, 94, 95]), array([-92, -93, -94, -95])]\n",
      "[array([96, 97, 98, 99]), array([-96, -97, -98, -99])]\n",
      "[array([100, 101, 102, 103]), array([-100, -101, -102, -103])]\n",
      "[array([104]), array([-104])]\n"
     ]
    }
   ],
   "source": [
    "inc_dataset = tf.data.Dataset.range(105)\n",
    "dec_dataset = tf.data.Dataset.range(0, -105, -1)\n",
    "dataset = tf.data.Dataset.zip((inc_dataset, dec_dataset))\n",
    "batched_dataset = dataset.batch(4)\n",
    "print(batched_dataset.element_spec)\n",
    "for batch in batched_dataset.take(110):\n",
    "  print([arr.numpy() for arr in batch])"
   ]
  },
  {
   "cell_type": "code",
   "execution_count": 25,
   "id": "6a078f8e-932a-4bca-90c7-bcff69e71a43",
   "metadata": {},
   "outputs": [],
   "source": [
    "df = pd.read_csv(\"/home/ahmed/work/atopiWork/atopiCodes/preprocessing/patientNumber_imName_DegradationRate.csv\")"
   ]
  },
  {
   "cell_type": "code",
   "execution_count": 29,
   "id": "1ded4ebf-8ff4-45ed-bb8e-281ad50e7f3e",
   "metadata": {},
   "outputs": [
    {
     "data": {
      "text/html": [
       "<div>\n",
       "<style scoped>\n",
       "    .dataframe tbody tr th:only-of-type {\n",
       "        vertical-align: middle;\n",
       "    }\n",
       "\n",
       "    .dataframe tbody tr th {\n",
       "        vertical-align: top;\n",
       "    }\n",
       "\n",
       "    .dataframe thead th {\n",
       "        text-align: right;\n",
       "    }\n",
       "</style>\n",
       "<table border=\"1\" class=\"dataframe\">\n",
       "  <thead>\n",
       "    <tr style=\"text-align: right;\">\n",
       "      <th></th>\n",
       "      <th>Unnamed: 0</th>\n",
       "      <th>patientNumber</th>\n",
       "      <th>imagePath</th>\n",
       "      <th>degradationRate</th>\n",
       "    </tr>\n",
       "  </thead>\n",
       "  <tbody>\n",
       "    <tr>\n",
       "      <th>0</th>\n",
       "      <td>0</td>\n",
       "      <td>357290</td>\n",
       "      <td>/home/ahmed/work/atopiWork/atopiImagesSkinOnly...</td>\n",
       "      <td>5</td>\n",
       "    </tr>\n",
       "    <tr>\n",
       "      <th>1</th>\n",
       "      <td>1</td>\n",
       "      <td>976845</td>\n",
       "      <td>/home/ahmed/work/atopiWork/atopiImagesSkinOnly...</td>\n",
       "      <td>3</td>\n",
       "    </tr>\n",
       "    <tr>\n",
       "      <th>2</th>\n",
       "      <td>2</td>\n",
       "      <td>1012164</td>\n",
       "      <td>/home/ahmed/work/atopiWork/atopiImagesSkinOnly...</td>\n",
       "      <td>3</td>\n",
       "    </tr>\n",
       "    <tr>\n",
       "      <th>3</th>\n",
       "      <td>3</td>\n",
       "      <td>768041</td>\n",
       "      <td>/home/ahmed/work/atopiWork/atopiImagesSkinOnly...</td>\n",
       "      <td>3</td>\n",
       "    </tr>\n",
       "    <tr>\n",
       "      <th>4</th>\n",
       "      <td>4</td>\n",
       "      <td>909121</td>\n",
       "      <td>/home/ahmed/work/atopiWork/atopiImagesSkinOnly...</td>\n",
       "      <td>1</td>\n",
       "    </tr>\n",
       "    <tr>\n",
       "      <th>...</th>\n",
       "      <td>...</td>\n",
       "      <td>...</td>\n",
       "      <td>...</td>\n",
       "      <td>...</td>\n",
       "    </tr>\n",
       "    <tr>\n",
       "      <th>1346</th>\n",
       "      <td>1346</td>\n",
       "      <td>529589</td>\n",
       "      <td>/home/ahmed/work/atopiWork/atopiImagesSkinOnly...</td>\n",
       "      <td>4</td>\n",
       "    </tr>\n",
       "    <tr>\n",
       "      <th>1347</th>\n",
       "      <td>1347</td>\n",
       "      <td>935352</td>\n",
       "      <td>/home/ahmed/work/atopiWork/atopiImagesSkinOnly...</td>\n",
       "      <td>2</td>\n",
       "    </tr>\n",
       "    <tr>\n",
       "      <th>1348</th>\n",
       "      <td>1348</td>\n",
       "      <td>476072</td>\n",
       "      <td>/home/ahmed/work/atopiWork/atopiImagesSkinOnly...</td>\n",
       "      <td>1</td>\n",
       "    </tr>\n",
       "    <tr>\n",
       "      <th>1349</th>\n",
       "      <td>1349</td>\n",
       "      <td>212879</td>\n",
       "      <td>/home/ahmed/work/atopiWork/atopiImagesSkinOnly...</td>\n",
       "      <td>2</td>\n",
       "    </tr>\n",
       "    <tr>\n",
       "      <th>1350</th>\n",
       "      <td>1350</td>\n",
       "      <td>1011786</td>\n",
       "      <td>/home/ahmed/work/atopiWork/atopiImagesSkinOnly...</td>\n",
       "      <td>1</td>\n",
       "    </tr>\n",
       "  </tbody>\n",
       "</table>\n",
       "<p>1351 rows × 4 columns</p>\n",
       "</div>"
      ],
      "text/plain": [
       "      Unnamed: 0  patientNumber  \\\n",
       "0              0         357290   \n",
       "1              1         976845   \n",
       "2              2        1012164   \n",
       "3              3         768041   \n",
       "4              4         909121   \n",
       "...          ...            ...   \n",
       "1346        1346         529589   \n",
       "1347        1347         935352   \n",
       "1348        1348         476072   \n",
       "1349        1349         212879   \n",
       "1350        1350        1011786   \n",
       "\n",
       "                                              imagePath  degradationRate  \n",
       "0     /home/ahmed/work/atopiWork/atopiImagesSkinOnly...                5  \n",
       "1     /home/ahmed/work/atopiWork/atopiImagesSkinOnly...                3  \n",
       "2     /home/ahmed/work/atopiWork/atopiImagesSkinOnly...                3  \n",
       "3     /home/ahmed/work/atopiWork/atopiImagesSkinOnly...                3  \n",
       "4     /home/ahmed/work/atopiWork/atopiImagesSkinOnly...                1  \n",
       "...                                                 ...              ...  \n",
       "1346  /home/ahmed/work/atopiWork/atopiImagesSkinOnly...                4  \n",
       "1347  /home/ahmed/work/atopiWork/atopiImagesSkinOnly...                2  \n",
       "1348  /home/ahmed/work/atopiWork/atopiImagesSkinOnly...                1  \n",
       "1349  /home/ahmed/work/atopiWork/atopiImagesSkinOnly...                2  \n",
       "1350  /home/ahmed/work/atopiWork/atopiImagesSkinOnly...                1  \n",
       "\n",
       "[1351 rows x 4 columns]"
      ]
     },
     "execution_count": 29,
     "metadata": {},
     "output_type": "execute_result"
    }
   ],
   "source": [
    "df"
   ]
  },
  {
   "cell_type": "code",
   "execution_count": 50,
   "id": "d3c12f09-a36d-4cc3-bcb3-7ceb36977996",
   "metadata": {},
   "outputs": [],
   "source": [
    "def parse_image(filename, label):\n",
    "  #parts = tf.strings.split(filename, os.sep)\n",
    "  #label = parts[-2]\n",
    "\n",
    "  image = tf.io.read_file(filename)\n",
    "  image = tf.io.decode_jpeg(image)\n",
    "  image = tf.image.convert_image_dtype(image, tf.float32)\n",
    "  image = tf.image.resize(image, [64, 64])\n",
    "  return image, label"
   ]
  },
  {
   "cell_type": "code",
   "execution_count": 33,
   "id": "13517dcc-f2ee-47f0-8b8e-3c05c908ebaa",
   "metadata": {},
   "outputs": [],
   "source": [
    "list_ds = tf.data.Dataset.list_files(str(flowers_root/'*/*'))"
   ]
  },
  {
   "cell_type": "code",
   "execution_count": 34,
   "id": "eaad55a4-058b-4aac-bac6-9f9628721195",
   "metadata": {},
   "outputs": [],
   "source": [
    "file_path = next(iter(list_ds))\n",
    "image, label = parse_image(file_path)"
   ]
  },
  {
   "cell_type": "code",
   "execution_count": 42,
   "id": "37334557-dd2d-486e-819c-23221cbfe6b0",
   "metadata": {},
   "outputs": [
    {
     "data": {
      "text/plain": [
       "TensorShape([128, 128, 3])"
      ]
     },
     "execution_count": 42,
     "metadata": {},
     "output_type": "execute_result"
    }
   ],
   "source": [
    "image.shape"
   ]
  },
  {
   "cell_type": "code",
   "execution_count": 43,
   "id": "a93629c9-6d9e-4e4f-be8b-f6d30643ae03",
   "metadata": {},
   "outputs": [
    {
     "data": {
      "text/plain": [
       "<tf.Tensor: shape=(), dtype=string, numpy=b'sunflowers'>"
      ]
     },
     "execution_count": 43,
     "metadata": {},
     "output_type": "execute_result"
    }
   ],
   "source": [
    "label"
   ]
  },
  {
   "cell_type": "code",
   "execution_count": 44,
   "id": "bc19885c-41c0-42b3-aca9-f9b21b8626a7",
   "metadata": {},
   "outputs": [],
   "source": [
    "imFilePaths = df[\"imagePath\"].to_numpy()"
   ]
  },
  {
   "cell_type": "code",
   "execution_count": 45,
   "id": "89181a77-ff60-4878-8c07-9061e300d0a5",
   "metadata": {},
   "outputs": [],
   "source": [
    "imFileLabels = df[\"degradationRate\"].to_numpy()"
   ]
  },
  {
   "cell_type": "code",
   "execution_count": 46,
   "id": "0029ad43-2e33-429c-8ed8-bb47cbdf72b1",
   "metadata": {},
   "outputs": [],
   "source": [
    "dataset = tf.data.Dataset.from_tensor_slices((imFilePaths, imFileLabels))"
   ]
  },
  {
   "cell_type": "code",
   "execution_count": 47,
   "id": "8296f6eb-2f81-42f8-8c1b-7a8077b972bf",
   "metadata": {},
   "outputs": [
    {
     "data": {
      "text/plain": [
       "<TensorSliceDataset shapes: ((), ()), types: (tf.string, tf.int64)>"
      ]
     },
     "execution_count": 47,
     "metadata": {},
     "output_type": "execute_result"
    }
   ],
   "source": [
    "dataset"
   ]
  },
  {
   "cell_type": "code",
   "execution_count": 51,
   "id": "082c756e-80cc-4c60-b44f-7e40e8087609",
   "metadata": {},
   "outputs": [],
   "source": [
    "dataset = dataset.map(parse_image, num_parallel_calls=4)"
   ]
  },
  {
   "cell_type": "code",
   "execution_count": 52,
   "id": "27692bf5-3858-4eae-b859-f5964ede63f5",
   "metadata": {},
   "outputs": [
    {
     "data": {
      "text/plain": [
       "<ParallelMapDataset shapes: ((64, 64, None), ()), types: (tf.float32, tf.int64)>"
      ]
     },
     "execution_count": 52,
     "metadata": {},
     "output_type": "execute_result"
    }
   ],
   "source": [
    "dataset"
   ]
  },
  {
   "cell_type": "code",
   "execution_count": 54,
   "id": "3ba924a5-3a5e-4c6d-9ee7-69b005549fda",
   "metadata": {},
   "outputs": [],
   "source": [
    "image, label = next(iter(dataset))"
   ]
  },
  {
   "cell_type": "code",
   "execution_count": 55,
   "id": "eb4f8f83-5ac9-45a5-a86d-8b6ecfa055e7",
   "metadata": {},
   "outputs": [
    {
     "data": {
      "text/plain": [
       "TensorShape([64, 64, 3])"
      ]
     },
     "execution_count": 55,
     "metadata": {},
     "output_type": "execute_result"
    }
   ],
   "source": [
    "image.shape"
   ]
  },
  {
   "cell_type": "code",
   "execution_count": 56,
   "id": "f30a2941-804f-49e5-989f-2c843cbef9ce",
   "metadata": {},
   "outputs": [
    {
     "data": {
      "text/plain": [
       "<tf.Tensor: shape=(), dtype=int64, numpy=5>"
      ]
     },
     "execution_count": 56,
     "metadata": {},
     "output_type": "execute_result"
    }
   ],
   "source": [
    "label"
   ]
  },
  {
   "cell_type": "code",
   "execution_count": 60,
   "id": "a33ca480-32ac-450f-8422-28e181423874",
   "metadata": {},
   "outputs": [
    {
     "data": {
      "image/png": "[encoded data removed]",
      "text/plain": [
       "<Figure size 640x480 with 1 Axes>"
      ]
     },
     "metadata": {},
     "output_type": "display_data"
    },
    {
     "data": {
      "image/png": "[encoded data removed]",
      "text/plain": [
       "<Figure size 640x480 with 1 Axes>"
      ]
     },
     "metadata": {},
     "output_type": "display_data"
    },
    {
     "data": {
      "image/png": "[encoded data removed]",
      "text/plain": [
       "<Figure size 640x480 with 1 Axes>"
      ]
     },
     "metadata": {},
     "output_type": "display_data"
    },
    {
     "data": {
      "image/png": "[encoded data removed]",
      "text/plain": [
       "<Figure size 640x480 with 1 Axes>"
      ]
     },
     "metadata": {},
     "output_type": "display_data"
    }
   ],
   "source": [
    "def show(image, label):\n",
    "  plt.figure()\n",
    "  plt.imshow(image)\n",
    "  plt.title(label.numpy())\n",
    "  plt.axis('off')\n",
    "  plt.show()  \n",
    "\n",
    "show(image, label)"
   ]
  },
  {
   "cell_type": "code",
   "execution_count": null,
   "id": "7a64b320-7711-4e47-9997-5501f350e017",
   "metadata": {},
   "outputs": [],
   "source": []
  }
 ],
 "metadata": {
  "kernelspec": {
   "display_name": "Python 3",
   "language": "python",
   "name": "python3"
  },
  "language_info": {
   "codemirror_mode": {
    "name": "ipython",
    "version": 3
   },
   "file_extension": ".py",
   "mimetype": "text/x-python",
   "name": "python",
   "nbconvert_exporter": "python",
   "pygments_lexer": "ipython3",
   "version": "3.8.0"
  }
 },
 "nbformat": 4,
 "nbformat_minor": 5
}
