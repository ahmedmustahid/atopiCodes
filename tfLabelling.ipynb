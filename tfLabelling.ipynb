{
 "cells": [
  {
   "cell_type": "code",
   "execution_count": 1,
   "id": "9ac16ef7-8019-4943-a353-dedee9e83cab",
   "metadata": {},
   "outputs": [],
   "source": [
    "import tensorflow as tf"
   ]
  },
  {
   "cell_type": "code",
   "execution_count": 2,
   "id": "7f75bd51-7d75-46c2-8796-9b85f8b55afd",
   "metadata": {},
   "outputs": [],
   "source": [
    "import pathlib\n",
    "import os\n",
    "import matplotlib.pyplot as plt\n",
    "import pandas as pd\n",
    "import numpy as np\n",
    "\n",
    "np.set_printoptions(precision=4)"
   ]
  },
  {
   "cell_type": "code",
   "execution_count": 58,
   "id": "5142efa0-f8e2-4d6f-9e3e-60a645acd188",
   "metadata": {},
   "outputs": [],
   "source": [
    "IMG_SIZE=(224,224)\n",
    "BATCH_SIZE=32"
   ]
  },
  {
   "cell_type": "code",
   "execution_count": 3,
   "id": "5bea14a3-063f-438d-b61c-f8cdac664526",
   "metadata": {},
   "outputs": [
    {
     "name": "stdout",
     "output_type": "stream",
     "text": [
      "Downloading data from https://storage.googleapis.com/download.tensorflow.org/example_images/flower_photos.tgz\n",
      "228818944/228813984 [==============================] - 7s 0us/step\n",
      "228827136/228813984 [==============================] - 7s 0us/step\n"
     ]
    }
   ],
   "source": [
    "flowers_root = tf.keras.utils.get_file(\n",
    "    'flower_photos',\n",
    "    'https://storage.googleapis.com/download.tensorflow.org/example_images/flower_photos.tgz',\n",
    "    untar=True)\n",
    "flowers_root = pathlib.Path(flowers_root)"
   ]
  },
  {
   "cell_type": "code",
   "execution_count": 4,
   "id": "ab1e848b-f620-4dff-86ee-b6adb2d9e961",
   "metadata": {},
   "outputs": [
    {
     "data": {
      "text/plain": [
       "PosixPath('/home/ahmed/.keras/datasets/flower_photos')"
      ]
     },
     "execution_count": 4,
     "metadata": {},
     "output_type": "execute_result"
    }
   ],
   "source": [
    "flowers_root"
   ]
  },
  {
   "cell_type": "code",
   "execution_count": 5,
   "id": "aa238f51-4387-4bcf-844b-7c557c5d5df7",
   "metadata": {},
   "outputs": [
    {
     "name": "stdout",
     "output_type": "stream",
     "text": [
      "dandelion\n",
      "sunflowers\n",
      "LICENSE.txt\n",
      "tulips\n",
      "daisy\n",
      "roses\n"
     ]
    }
   ],
   "source": [
    "for item in flowers_root.glob(\"*\"):\n",
    "  print(item.name)"
   ]
  },
  {
   "cell_type": "code",
   "execution_count": 6,
   "id": "a6e3e791-8c8e-4524-b347-717b30f3f591",
   "metadata": {},
   "outputs": [],
   "source": [
    "list_ds = tf.data.Dataset.list_files(str(flowers_root/'*/*'))"
   ]
  },
  {
   "cell_type": "code",
   "execution_count": 7,
   "id": "61198c5b-1a73-4588-b446-ad01337b758b",
   "metadata": {},
   "outputs": [
    {
     "name": "stdout",
     "output_type": "stream",
     "text": [
      "b'/home/ahmed/.keras/datasets/flower_photos/daisy/9345273630_af3550031d.jpg'\n",
      "b'/home/ahmed/.keras/datasets/flower_photos/tulips/14094114202_4c1d7f1116.jpg'\n",
      "b'/home/ahmed/.keras/datasets/flower_photos/sunflowers/5223643767_d8beb7e410.jpg'\n",
      "b'/home/ahmed/.keras/datasets/flower_photos/daisy/15327813273_06cdf42210.jpg'\n",
      "b'/home/ahmed/.keras/datasets/flower_photos/tulips/13531001134_72052100e1_m.jpg'\n"
     ]
    }
   ],
   "source": [
    "for f in list_ds.take(5):\n",
    "  print(f.numpy())"
   ]
  },
  {
   "cell_type": "code",
   "execution_count": 8,
   "id": "01c7700f-cd25-48d8-bd37-69f1d805b226",
   "metadata": {},
   "outputs": [],
   "source": [
    "def process_path(file_path):\n",
    "  label = tf.strings.split(file_path, os.sep)[-2]\n",
    "  return tf.io.read_file(file_path), label\n",
    "\n",
    "labeled_ds = list_ds.map(process_path)"
   ]
  },
  {
   "cell_type": "code",
   "execution_count": 9,
   "id": "5b896d88-489c-40ed-909b-58cedd810a67",
   "metadata": {},
   "outputs": [
    {
     "data": {
      "text/plain": [
       "<MapDataset shapes: ((), ()), types: (tf.string, tf.string)>"
      ]
     },
     "execution_count": 9,
     "metadata": {},
     "output_type": "execute_result"
    }
   ],
   "source": [
    "labeled_ds"
   ]
  },
  {
   "cell_type": "code",
   "execution_count": 10,
   "id": "3cad0423-beb5-4c48-9249-070abe4cb1c8",
   "metadata": {},
   "outputs": [
    {
     "name": "stdout",
     "output_type": "stream",
     "text": [
      "b'\\xff\\xd8\\xff\\xe0\\x00\\x10JFIF\\x00\\x01\\x01\\x01\\x00H\\x00H\\x00\\x00\\xff\\xdb\\x00C\\x00\\x01\\x01\\x01\\x01\\x01\\x01\\x01\\x01\\x01\\x01\\x01\\x01\\x01\\x02\\x02\\x03\\x02\\x02\\x02\\x02\\x02\\x04\\x03\\x03\\x02\\x03\\x05\\x04\\x05\\x05\\x05\\x04\\x04\\x04\\x05\\x06\\x07\\x06\\x05\\x05\\x07\\x06\\x04\\x04\\x06\\t\\x06\\x07\\x08\\x08\\x08\\x08\\x08\\x05\\x06\\t\\n\\t\\x08\\n\\x07\\x08\\x08\\x08\\xff\\xdb\\x00C\\x01\\x01\\x01\\x01\\x02\\x02\\x02'\n",
      "\n",
      "b'roses'\n"
     ]
    }
   ],
   "source": [
    "for image_raw, label_text in labeled_ds.take(1):\n",
    "  print(repr(image_raw.numpy()[:100]))\n",
    "  print()\n",
    "  print(label_text.numpy())"
   ]
  },
  {
   "cell_type": "code",
   "execution_count": 23,
   "id": "3e70ded3-69c8-4c2e-998b-ecfeaab6077a",
   "metadata": {},
   "outputs": [
    {
     "name": "stdout",
     "output_type": "stream",
     "text": [
      "(TensorSpec(shape=(None,), dtype=tf.int64, name=None), TensorSpec(shape=(None,), dtype=tf.int64, name=None))\n",
      "[array([0, 1, 2, 3]), array([ 0, -1, -2, -3])]\n",
      "[array([4, 5, 6, 7]), array([-4, -5, -6, -7])]\n",
      "[array([ 8,  9, 10, 11]), array([ -8,  -9, -10, -11])]\n",
      "[array([12, 13, 14, 15]), array([-12, -13, -14, -15])]\n",
      "[array([16, 17, 18, 19]), array([-16, -17, -18, -19])]\n",
      "[array([20, 21, 22, 23]), array([-20, -21, -22, -23])]\n",
      "[array([24, 25, 26, 27]), array([-24, -25, -26, -27])]\n",
      "[array([28, 29, 30, 31]), array([-28, -29, -30, -31])]\n",
      "[array([32, 33, 34, 35]), array([-32, -33, -34, -35])]\n",
      "[array([36, 37, 38, 39]), array([-36, -37, -38, -39])]\n",
      "[array([40, 41, 42, 43]), array([-40, -41, -42, -43])]\n",
      "[array([44, 45, 46, 47]), array([-44, -45, -46, -47])]\n",
      "[array([48, 49, 50, 51]), array([-48, -49, -50, -51])]\n",
      "[array([52, 53, 54, 55]), array([-52, -53, -54, -55])]\n",
      "[array([56, 57, 58, 59]), array([-56, -57, -58, -59])]\n",
      "[array([60, 61, 62, 63]), array([-60, -61, -62, -63])]\n",
      "[array([64, 65, 66, 67]), array([-64, -65, -66, -67])]\n",
      "[array([68, 69, 70, 71]), array([-68, -69, -70, -71])]\n",
      "[array([72, 73, 74, 75]), array([-72, -73, -74, -75])]\n",
      "[array([76, 77, 78, 79]), array([-76, -77, -78, -79])]\n",
      "[array([80, 81, 82, 83]), array([-80, -81, -82, -83])]\n",
      "[array([84, 85, 86, 87]), array([-84, -85, -86, -87])]\n",
      "[array([88, 89, 90, 91]), array([-88, -89, -90, -91])]\n",
      "[array([92, 93, 94, 95]), array([-92, -93, -94, -95])]\n",
      "[array([96, 97, 98, 99]), array([-96, -97, -98, -99])]\n",
      "[array([100, 101, 102, 103]), array([-100, -101, -102, -103])]\n",
      "[array([104]), array([-104])]\n"
     ]
    }
   ],
   "source": [
    "inc_dataset = tf.data.Dataset.range(105)\n",
    "dec_dataset = tf.data.Dataset.range(0, -105, -1)\n",
    "dataset = tf.data.Dataset.zip((inc_dataset, dec_dataset))\n",
    "batched_dataset = dataset.batch(4)\n",
    "print(batched_dataset.element_spec)\n",
    "for batch in batched_dataset.take(110):\n",
    "  print([arr.numpy() for arr in batch])"
   ]
  },
  {
   "cell_type": "code",
   "execution_count": 3,
   "id": "6a078f8e-932a-4bca-90c7-bcff69e71a43",
   "metadata": {},
   "outputs": [],
   "source": [
    "df = pd.read_csv(\"/home/ahmed/work/atopiWork/atopiCodes/preprocessing/csvs/patientNumber_imName_DegradationRate.csv\")"
   ]
  },
  {
   "cell_type": "code",
   "execution_count": 4,
   "id": "1ded4ebf-8ff4-45ed-bb8e-281ad50e7f3e",
   "metadata": {},
   "outputs": [
    {
     "data": {
      "text/html": [
       "<div>\n",
       "<style scoped>\n",
       "    .dataframe tbody tr th:only-of-type {\n",
       "        vertical-align: middle;\n",
       "    }\n",
       "\n",
       "    .dataframe tbody tr th {\n",
       "        vertical-align: top;\n",
       "    }\n",
       "\n",
       "    .dataframe thead th {\n",
       "        text-align: right;\n",
       "    }\n",
       "</style>\n",
       "<table border=\"1\" class=\"dataframe\">\n",
       "  <thead>\n",
       "    <tr style=\"text-align: right;\">\n",
       "      <th></th>\n",
       "      <th>Unnamed: 0</th>\n",
       "      <th>patientNumber</th>\n",
       "      <th>imagePath</th>\n",
       "      <th>degradationRate</th>\n",
       "    </tr>\n",
       "  </thead>\n",
       "  <tbody>\n",
       "    <tr>\n",
       "      <th>0</th>\n",
       "      <td>0</td>\n",
       "      <td>357290</td>\n",
       "      <td>/home/ahmed/work/atopiWork/atopiImagesSkinOnly...</td>\n",
       "      <td>5</td>\n",
       "    </tr>\n",
       "    <tr>\n",
       "      <th>1</th>\n",
       "      <td>1</td>\n",
       "      <td>976845</td>\n",
       "      <td>/home/ahmed/work/atopiWork/atopiImagesSkinOnly...</td>\n",
       "      <td>3</td>\n",
       "    </tr>\n",
       "    <tr>\n",
       "      <th>2</th>\n",
       "      <td>2</td>\n",
       "      <td>1012164</td>\n",
       "      <td>/home/ahmed/work/atopiWork/atopiImagesSkinOnly...</td>\n",
       "      <td>3</td>\n",
       "    </tr>\n",
       "    <tr>\n",
       "      <th>3</th>\n",
       "      <td>3</td>\n",
       "      <td>768041</td>\n",
       "      <td>/home/ahmed/work/atopiWork/atopiImagesSkinOnly...</td>\n",
       "      <td>3</td>\n",
       "    </tr>\n",
       "    <tr>\n",
       "      <th>4</th>\n",
       "      <td>4</td>\n",
       "      <td>909121</td>\n",
       "      <td>/home/ahmed/work/atopiWork/atopiImagesSkinOnly...</td>\n",
       "      <td>1</td>\n",
       "    </tr>\n",
       "    <tr>\n",
       "      <th>...</th>\n",
       "      <td>...</td>\n",
       "      <td>...</td>\n",
       "      <td>...</td>\n",
       "      <td>...</td>\n",
       "    </tr>\n",
       "    <tr>\n",
       "      <th>1346</th>\n",
       "      <td>1346</td>\n",
       "      <td>529589</td>\n",
       "      <td>/home/ahmed/work/atopiWork/atopiImagesSkinOnly...</td>\n",
       "      <td>4</td>\n",
       "    </tr>\n",
       "    <tr>\n",
       "      <th>1347</th>\n",
       "      <td>1347</td>\n",
       "      <td>935352</td>\n",
       "      <td>/home/ahmed/work/atopiWork/atopiImagesSkinOnly...</td>\n",
       "      <td>2</td>\n",
       "    </tr>\n",
       "    <tr>\n",
       "      <th>1348</th>\n",
       "      <td>1348</td>\n",
       "      <td>476072</td>\n",
       "      <td>/home/ahmed/work/atopiWork/atopiImagesSkinOnly...</td>\n",
       "      <td>1</td>\n",
       "    </tr>\n",
       "    <tr>\n",
       "      <th>1349</th>\n",
       "      <td>1349</td>\n",
       "      <td>212879</td>\n",
       "      <td>/home/ahmed/work/atopiWork/atopiImagesSkinOnly...</td>\n",
       "      <td>2</td>\n",
       "    </tr>\n",
       "    <tr>\n",
       "      <th>1350</th>\n",
       "      <td>1350</td>\n",
       "      <td>1011786</td>\n",
       "      <td>/home/ahmed/work/atopiWork/atopiImagesSkinOnly...</td>\n",
       "      <td>1</td>\n",
       "    </tr>\n",
       "  </tbody>\n",
       "</table>\n",
       "<p>1351 rows × 4 columns</p>\n",
       "</div>"
      ],
      "text/plain": [
       "      Unnamed: 0  patientNumber  \\\n",
       "0              0         357290   \n",
       "1              1         976845   \n",
       "2              2        1012164   \n",
       "3              3         768041   \n",
       "4              4         909121   \n",
       "...          ...            ...   \n",
       "1346        1346         529589   \n",
       "1347        1347         935352   \n",
       "1348        1348         476072   \n",
       "1349        1349         212879   \n",
       "1350        1350        1011786   \n",
       "\n",
       "                                              imagePath  degradationRate  \n",
       "0     /home/ahmed/work/atopiWork/atopiImagesSkinOnly...                5  \n",
       "1     /home/ahmed/work/atopiWork/atopiImagesSkinOnly...                3  \n",
       "2     /home/ahmed/work/atopiWork/atopiImagesSkinOnly...                3  \n",
       "3     /home/ahmed/work/atopiWork/atopiImagesSkinOnly...                3  \n",
       "4     /home/ahmed/work/atopiWork/atopiImagesSkinOnly...                1  \n",
       "...                                                 ...              ...  \n",
       "1346  /home/ahmed/work/atopiWork/atopiImagesSkinOnly...                4  \n",
       "1347  /home/ahmed/work/atopiWork/atopiImagesSkinOnly...                2  \n",
       "1348  /home/ahmed/work/atopiWork/atopiImagesSkinOnly...                1  \n",
       "1349  /home/ahmed/work/atopiWork/atopiImagesSkinOnly...                2  \n",
       "1350  /home/ahmed/work/atopiWork/atopiImagesSkinOnly...                1  \n",
       "\n",
       "[1351 rows x 4 columns]"
      ]
     },
     "execution_count": 4,
     "metadata": {},
     "output_type": "execute_result"
    }
   ],
   "source": [
    "df"
   ]
  },
  {
   "cell_type": "code",
   "execution_count": 47,
   "id": "d3c12f09-a36d-4cc3-bcb3-7ceb36977996",
   "metadata": {},
   "outputs": [],
   "source": [
    "imSizeX, imSizeY = IMG_SIZE\n",
    "def parse_image(filename, label):\n",
    "  #parts = tf.strings.split(filename, os.sep)\n",
    "  #label = parts[-2]\n",
    "\n",
    "  image = tf.io.read_file(filename)\n",
    "  image = tf.io.decode_jpeg(image)\n",
    "  image = tf.image.convert_image_dtype(image, tf.float32)\n",
    "  image = tf.image.resize(image, [imSizeX, imSizeY])\n",
    "  return image, label"
   ]
  },
  {
   "cell_type": "code",
   "execution_count": 33,
   "id": "13517dcc-f2ee-47f0-8b8e-3c05c908ebaa",
   "metadata": {},
   "outputs": [],
   "source": [
    "list_ds = tf.data.Dataset.list_files(str(flowers_root/'*/*'))"
   ]
  },
  {
   "cell_type": "code",
   "execution_count": 34,
   "id": "eaad55a4-058b-4aac-bac6-9f9628721195",
   "metadata": {},
   "outputs": [],
   "source": [
    "file_path = next(iter(list_ds))\n",
    "image, label = parse_image(file_path)"
   ]
  },
  {
   "cell_type": "code",
   "execution_count": 42,
   "id": "37334557-dd2d-486e-819c-23221cbfe6b0",
   "metadata": {},
   "outputs": [
    {
     "data": {
      "text/plain": [
       "TensorShape([128, 128, 3])"
      ]
     },
     "execution_count": 42,
     "metadata": {},
     "output_type": "execute_result"
    }
   ],
   "source": [
    "image.shape"
   ]
  },
  {
   "cell_type": "code",
   "execution_count": 43,
   "id": "a93629c9-6d9e-4e4f-be8b-f6d30643ae03",
   "metadata": {},
   "outputs": [
    {
     "data": {
      "text/plain": [
       "<tf.Tensor: shape=(), dtype=string, numpy=b'sunflowers'>"
      ]
     },
     "execution_count": 43,
     "metadata": {},
     "output_type": "execute_result"
    }
   ],
   "source": [
    "label"
   ]
  },
  {
   "cell_type": "code",
   "execution_count": 6,
   "id": "bc19885c-41c0-42b3-aca9-f9b21b8626a7",
   "metadata": {},
   "outputs": [],
   "source": [
    "imFilePaths = df[\"imagePath\"].to_numpy()"
   ]
  },
  {
   "cell_type": "code",
   "execution_count": 7,
   "id": "89181a77-ff60-4878-8c07-9061e300d0a5",
   "metadata": {},
   "outputs": [],
   "source": [
    "imFileLabels = df[\"degradationRate\"].to_numpy()"
   ]
  },
  {
   "cell_type": "code",
   "execution_count": 48,
   "id": "a3f76ca2-d2c5-4699-9397-9a00712ecbdc",
   "metadata": {},
   "outputs": [
    {
     "data": {
      "text/plain": [
       "((1351,), (1351,))"
      ]
     },
     "execution_count": 48,
     "metadata": {},
     "output_type": "execute_result"
    }
   ],
   "source": [
    "imFileLabels.shape, imFilePaths.shape"
   ]
  },
  {
   "cell_type": "code",
   "execution_count": 119,
   "id": "0029ad43-2e33-429c-8ed8-bb47cbdf72b1",
   "metadata": {},
   "outputs": [],
   "source": [
    "dataset = tf.data.Dataset.from_tensor_slices((imFilePaths, imFileLabels))"
   ]
  },
  {
   "cell_type": "code",
   "execution_count": 50,
   "id": "8296f6eb-2f81-42f8-8c1b-7a8077b972bf",
   "metadata": {},
   "outputs": [
    {
     "data": {
      "text/plain": [
       "<TensorSliceDataset shapes: ((), ()), types: (tf.string, tf.int64)>"
      ]
     },
     "execution_count": 50,
     "metadata": {},
     "output_type": "execute_result"
    }
   ],
   "source": [
    "dataset"
   ]
  },
  {
   "cell_type": "code",
   "execution_count": 120,
   "id": "082c756e-80cc-4c60-b44f-7e40e8087609",
   "metadata": {},
   "outputs": [],
   "source": [
    "dataset = dataset.map(parse_image, num_parallel_calls=4)"
   ]
  },
  {
   "cell_type": "code",
   "execution_count": 69,
   "id": "27692bf5-3858-4eae-b859-f5964ede63f5",
   "metadata": {},
   "outputs": [
    {
     "data": {
      "text/plain": [
       "<BatchDataset shapes: ((None, 224, 224, None), (None,)), types: (tf.float32, tf.int64)>"
      ]
     },
     "execution_count": 69,
     "metadata": {},
     "output_type": "execute_result"
    }
   ],
   "source": [
    "dataset"
   ]
  },
  {
   "cell_type": "code",
   "execution_count": 53,
   "id": "82e03b95-403e-40a1-bc96-079c6083fbad",
   "metadata": {},
   "outputs": [
    {
     "data": {
      "text/plain": [
       "(TensorSpec(shape=(224, 224, None), dtype=tf.float32, name=None),\n",
       " TensorSpec(shape=(), dtype=tf.int64, name=None))"
      ]
     },
     "execution_count": 53,
     "metadata": {},
     "output_type": "execute_result"
    }
   ],
   "source": [
    "dataset.element_spec"
   ]
  },
  {
   "cell_type": "code",
   "execution_count": 121,
   "id": "67e0bd4a-609b-46ab-bae7-a74139737757",
   "metadata": {},
   "outputs": [],
   "source": [
    "#dataset = dataset.batch(BATCH_SIZE)"
   ]
  },
  {
   "cell_type": "code",
   "execution_count": 60,
   "id": "3ba924a5-3a5e-4c6d-9ee7-69b005549fda",
   "metadata": {},
   "outputs": [],
   "source": [
    "image, label = next(iter(dataset))"
   ]
  },
  {
   "cell_type": "code",
   "execution_count": 70,
   "id": "eb4f8f83-5ac9-45a5-a86d-8b6ecfa055e7",
   "metadata": {},
   "outputs": [
    {
     "data": {
      "text/plain": [
       "TensorShape([32, 224, 224, 3])"
      ]
     },
     "execution_count": 70,
     "metadata": {},
     "output_type": "execute_result"
    }
   ],
   "source": [
    "image.shape"
   ]
  },
  {
   "cell_type": "code",
   "execution_count": 62,
   "id": "f30a2941-804f-49e5-989f-2c843cbef9ce",
   "metadata": {},
   "outputs": [
    {
     "data": {
      "text/plain": [
       "<tf.Tensor: shape=(32,), dtype=int64, numpy=\n",
       "array([5, 3, 3, 3, 1, 1, 2, 1, 1, 2, 3, 4, 3, 1, 3, 1, 2, 2, 2, 3, 1, 1,\n",
       "       5, 4, 3, 2, 2, 1, 1, 1, 3, 1])>"
      ]
     },
     "execution_count": 62,
     "metadata": {},
     "output_type": "execute_result"
    }
   ],
   "source": [
    "label"
   ]
  },
  {
   "cell_type": "code",
   "execution_count": 64,
   "id": "b2cfa083-9ba2-48b3-9018-55bcc78ae4ce",
   "metadata": {},
   "outputs": [],
   "source": [
    "plt.close()"
   ]
  },
  {
   "cell_type": "code",
   "execution_count": 65,
   "id": "a33ca480-32ac-450f-8422-28e181423874",
   "metadata": {},
   "outputs": [
    {
     "data": {
      "image/png": "[encoded data removed]",
      "text/plain": [
       "<Figure size 640x480 with 1 Axes>"
      ]
     },
     "metadata": {},
     "output_type": "display_data"
    }
   ],
   "source": [
    "def show(image, label):\n",
    "  plt.figure()\n",
    "  plt.imshow(image)\n",
    "  plt.title(label.numpy())\n",
    "  plt.axis('off')\n",
    "  plt.show()  \n",
    "\n",
    "show(image[0], label[0])"
   ]
  },
  {
   "cell_type": "code",
   "execution_count": 122,
   "id": "7a64b320-7711-4e47-9997-5501f350e017",
   "metadata": {},
   "outputs": [],
   "source": [
    "def get_dataset_partitions_tf(ds, ds_size, train_split=0.8, val_split=0.1, test_split=0.1, shuffle=True, shuffle_size=10000):\n",
    "    assert (train_split + test_split + val_split) == 1\n",
    "    \n",
    "    if shuffle:\n",
    "        # Specify seed to always have the same split distribution between runs\n",
    "        ds = ds.shuffle(shuffle_size, seed=12)\n",
    "    \n",
    "    train_size = int(train_split * ds_size)\n",
    "    print(\"train size\", train_size)\n",
    "    val_size = int(val_split * ds_size)\n",
    "    print(\"val size\", val_size)\n",
    "    train_ds = ds.take(train_size)    \n",
    "    val_ds = ds.skip(train_size).take(val_size)\n",
    "    test_ds = ds.skip(train_size).skip(val_size)\n",
    "    \n",
    "    return train_ds, val_ds, test_ds"
   ]
  },
  {
   "cell_type": "code",
   "execution_count": 123,
   "id": "16eb2240-bc98-452f-968d-9db6b38cb40a",
   "metadata": {},
   "outputs": [
    {
     "name": "stdout",
     "output_type": "stream",
     "text": [
      "train size 1080\n",
      "val size 135\n"
     ]
    }
   ],
   "source": [
    "train_ds, val_ds, test_ds = get_dataset_partitions_tf(ds=dataset, ds_size=1351)"
   ]
  },
  {
   "cell_type": "code",
   "execution_count": 132,
   "id": "c466692d-285c-49a4-9df1-31dbc2a15f63",
   "metadata": {},
   "outputs": [],
   "source": [
    "def convertToBatch(datasets, batchSize=32):\n",
    "    #for dataset in datasets:\n",
    "    return dataset.batch(batchSize)"
   ]
  },
  {
   "cell_type": "code",
   "execution_count": 144,
   "id": "6f8bdb67-b2b4-4183-9a42-8fbb232fc249",
   "metadata": {},
   "outputs": [],
   "source": [
    "train_ds=convertToBatch(train_ds)\n",
    "val_ds=convertToBatch(val_ds)\n",
    "test_ds=convertToBatch(test_ds)"
   ]
  },
  {
   "cell_type": "code",
   "execution_count": 146,
   "id": "0a27a85f-96b3-44fe-8248-148ad1156b3e",
   "metadata": {},
   "outputs": [
    {
     "name": "stdout",
     "output_type": "stream",
     "text": [
      "images.shape:  (32, 224, 224, 3)\n",
      "labels.shape:  (32,)\n"
     ]
    }
   ],
   "source": [
    "for images, labels in val_ds.take(1):\n",
    "  print('images.shape: ', images.shape)\n",
    "  print('labels.shape: ', labels.shape)"
   ]
  },
  {
   "cell_type": "code",
   "execution_count": 139,
   "id": "3a9bff66-58dc-4ee0-bfde-54652fc577ca",
   "metadata": {},
   "outputs": [
    {
     "data": {
      "text/plain": [
       "(TensorSpec(shape=(None, 224, 224, None), dtype=tf.float32, name=None),\n",
       " TensorSpec(shape=(None,), dtype=tf.int64, name=None))"
      ]
     },
     "execution_count": 139,
     "metadata": {},
     "output_type": "execute_result"
    }
   ],
   "source": [
    "train_ds.element_spec"
   ]
  },
  {
   "cell_type": "code",
   "execution_count": 147,
   "id": "24bca2ca-bc28-4c02-9af6-d0acfbd17ccd",
   "metadata": {},
   "outputs": [],
   "source": [
    "AUTOTUNE = tf.data.AUTOTUNE\n",
    "train_dataset = train_ds.prefetch(buffer_size=AUTOTUNE)"
   ]
  },
  {
   "cell_type": "code",
   "execution_count": 148,
   "id": "b5526bd2-ac0d-4703-a7fc-9a07b514d664",
   "metadata": {},
   "outputs": [],
   "source": [
    "validation_dataset = val_ds.prefetch(buffer_size=AUTOTUNE)\n",
    "test_dataset = test_ds.prefetch(buffer_size=AUTOTUNE)"
   ]
  },
  {
   "cell_type": "code",
   "execution_count": 73,
   "id": "aff5c09a-10f0-46cd-92d8-6bf4ef9368e5",
   "metadata": {},
   "outputs": [],
   "source": [
    "data_augmentation = tf.keras.Sequential([\n",
    "  tf.keras.layers.RandomFlip('horizontal'),\n",
    "  tf.keras.layers.RandomRotation(0.2),\n",
    "])"
   ]
  },
  {
   "cell_type": "code",
   "execution_count": 74,
   "id": "42d414f6-1b61-4281-9773-ba40621f07d0",
   "metadata": {},
   "outputs": [],
   "source": [
    "result = data_augmentation(image)"
   ]
  },
  {
   "cell_type": "code",
   "execution_count": 77,
   "id": "f6cbb3d4-0e62-4b8a-857d-52c4283c4c87",
   "metadata": {},
   "outputs": [],
   "source": [
    "preprocess_input = tf.keras.applications.mobilenet_v2.preprocess_input"
   ]
  },
  {
   "cell_type": "code",
   "execution_count": 78,
   "id": "43f171c4-a7cf-4cd8-96f3-6e51294e7e3d",
   "metadata": {},
   "outputs": [],
   "source": [
    "rescale = tf.keras.layers.Rescaling(1./127.5, offset=-1)"
   ]
  },
  {
   "cell_type": "code",
   "execution_count": 79,
   "id": "8880e434-068d-41b6-b51c-d82faa92c1fb",
   "metadata": {},
   "outputs": [],
   "source": [
    "#IMG_SIZE=(256,256)\n",
    "# Create the base model from the pre-trained model MobileNet V2\n",
    "IMG_SHAPE = IMG_SIZE + (3,)\n",
    "base_model = tf.keras.applications.MobileNetV2(input_shape=IMG_SHAPE,\n",
    "                                               include_top=False,\n",
    "                                               weights='imagenet')"
   ]
  },
  {
   "cell_type": "code",
   "execution_count": 141,
   "id": "aa443f1a-32dd-44a3-ab8a-09c39565966b",
   "metadata": {},
   "outputs": [
    {
     "name": "stdout",
     "output_type": "stream",
     "text": [
      "(32, 7, 7, 1280)\n"
     ]
    }
   ],
   "source": [
    "image_batch, label_batch = next(iter(train_dataset))\n",
    "feature_batch = base_model(image_batch)\n",
    "print(feature_batch.shape)"
   ]
  },
  {
   "cell_type": "markdown",
   "id": "90e6f2b1-13eb-4639-80ed-c021c5e3932b",
   "metadata": {},
   "source": [
    "#### Feature extraction"
   ]
  },
  {
   "cell_type": "code",
   "execution_count": 81,
   "id": "fe37bfd3-8bf3-4621-ac08-0500e2fe6170",
   "metadata": {},
   "outputs": [],
   "source": [
    "base_model.trainable = False"
   ]
  },
  {
   "cell_type": "code",
   "execution_count": 82,
   "id": "57e329ac-4e81-45fb-8d5f-610658f6659c",
   "metadata": {},
   "outputs": [
    {
     "name": "stdout",
     "output_type": "stream",
     "text": [
      "Model: \"mobilenetv2_1.00_224\"\n",
      "__________________________________________________________________________________________________\n",
      " Layer (type)                   Output Shape         Param #     Connected to                     \n",
      "==================================================================================================\n",
      " input_4 (InputLayer)           [(None, 224, 224, 3  0           []                               \n",
      "                                )]                                                                \n",
      "                                                                                                  \n",
      " Conv1 (Conv2D)                 (None, 112, 112, 32  864         ['input_4[0][0]']                \n",
      "                                )                                                                 \n",
      "                                                                                                  \n",
      " bn_Conv1 (BatchNormalization)  (None, 112, 112, 32  128         ['Conv1[0][0]']                  \n",
      "                                )                                                                 \n",
      "                                                                                                  \n",
      " Conv1_relu (ReLU)              (None, 112, 112, 32  0           ['bn_Conv1[0][0]']               \n",
      "                                )                                                                 \n",
      "                                                                                                  \n",
      " expanded_conv_depthwise (Depth  (None, 112, 112, 32  288        ['Conv1_relu[0][0]']             \n",
      " wiseConv2D)                    )                                                                 \n",
      "                                                                                                  \n",
      " expanded_conv_depthwise_BN (Ba  (None, 112, 112, 32  128        ['expanded_conv_depthwise[0][0]']\n",
      " tchNormalization)              )                                                                 \n",
      "                                                                                                  \n",
      " expanded_conv_depthwise_relu (  (None, 112, 112, 32  0          ['expanded_conv_depthwise_BN[0][0\n",
      " ReLU)                          )                                ]']                              \n",
      "                                                                                                  \n",
      " expanded_conv_project (Conv2D)  (None, 112, 112, 16  512        ['expanded_conv_depthwise_relu[0]\n",
      "                                )                                [0]']                            \n",
      "                                                                                                  \n",
      " expanded_conv_project_BN (Batc  (None, 112, 112, 16  64         ['expanded_conv_project[0][0]']  \n",
      " hNormalization)                )                                                                 \n",
      "                                                                                                  \n",
      " block_1_expand (Conv2D)        (None, 112, 112, 96  1536        ['expanded_conv_project_BN[0][0]'\n",
      "                                )                                ]                                \n",
      "                                                                                                  \n",
      " block_1_expand_BN (BatchNormal  (None, 112, 112, 96  384        ['block_1_expand[0][0]']         \n",
      " ization)                       )                                                                 \n",
      "                                                                                                  \n",
      " block_1_expand_relu (ReLU)     (None, 112, 112, 96  0           ['block_1_expand_BN[0][0]']      \n",
      "                                )                                                                 \n",
      "                                                                                                  \n",
      " block_1_pad (ZeroPadding2D)    (None, 113, 113, 96  0           ['block_1_expand_relu[0][0]']    \n",
      "                                )                                                                 \n",
      "                                                                                                  \n",
      " block_1_depthwise (DepthwiseCo  (None, 56, 56, 96)  864         ['block_1_pad[0][0]']            \n",
      " nv2D)                                                                                            \n",
      "                                                                                                  \n",
      " block_1_depthwise_BN (BatchNor  (None, 56, 56, 96)  384         ['block_1_depthwise[0][0]']      \n",
      " malization)                                                                                      \n",
      "                                                                                                  \n",
      " block_1_depthwise_relu (ReLU)  (None, 56, 56, 96)   0           ['block_1_depthwise_BN[0][0]']   \n",
      "                                                                                                  \n",
      " block_1_project (Conv2D)       (None, 56, 56, 24)   2304        ['block_1_depthwise_relu[0][0]'] \n",
      "                                                                                                  \n",
      " block_1_project_BN (BatchNorma  (None, 56, 56, 24)  96          ['block_1_project[0][0]']        \n",
      " lization)                                                                                        \n",
      "                                                                                                  \n",
      " block_2_expand (Conv2D)        (None, 56, 56, 144)  3456        ['block_1_project_BN[0][0]']     \n",
      "                                                                                                  \n",
      " block_2_expand_BN (BatchNormal  (None, 56, 56, 144)  576        ['block_2_expand[0][0]']         \n",
      " ization)                                                                                         \n",
      "                                                                                                  \n",
      " block_2_expand_relu (ReLU)     (None, 56, 56, 144)  0           ['block_2_expand_BN[0][0]']      \n",
      "                                                                                                  \n",
      " block_2_depthwise (DepthwiseCo  (None, 56, 56, 144)  1296       ['block_2_expand_relu[0][0]']    \n",
      " nv2D)                                                                                            \n",
      "                                                                                                  \n",
      " block_2_depthwise_BN (BatchNor  (None, 56, 56, 144)  576        ['block_2_depthwise[0][0]']      \n",
      " malization)                                                                                      \n",
      "                                                                                                  \n",
      " block_2_depthwise_relu (ReLU)  (None, 56, 56, 144)  0           ['block_2_depthwise_BN[0][0]']   \n",
      "                                                                                                  \n",
      " block_2_project (Conv2D)       (None, 56, 56, 24)   3456        ['block_2_depthwise_relu[0][0]'] \n",
      "                                                                                                  \n",
      " block_2_project_BN (BatchNorma  (None, 56, 56, 24)  96          ['block_2_project[0][0]']        \n",
      " lization)                                                                                        \n",
      "                                                                                                  \n",
      " block_2_add (Add)              (None, 56, 56, 24)   0           ['block_1_project_BN[0][0]',     \n",
      "                                                                  'block_2_project_BN[0][0]']     \n",
      "                                                                                                  \n",
      " block_3_expand (Conv2D)        (None, 56, 56, 144)  3456        ['block_2_add[0][0]']            \n",
      "                                                                                                  \n",
      " block_3_expand_BN (BatchNormal  (None, 56, 56, 144)  576        ['block_3_expand[0][0]']         \n",
      " ization)                                                                                         \n",
      "                                                                                                  \n",
      " block_3_expand_relu (ReLU)     (None, 56, 56, 144)  0           ['block_3_expand_BN[0][0]']      \n",
      "                                                                                                  \n",
      " block_3_pad (ZeroPadding2D)    (None, 57, 57, 144)  0           ['block_3_expand_relu[0][0]']    \n",
      "                                                                                                  \n",
      " block_3_depthwise (DepthwiseCo  (None, 28, 28, 144)  1296       ['block_3_pad[0][0]']            \n",
      " nv2D)                                                                                            \n",
      "                                                                                                  \n",
      " block_3_depthwise_BN (BatchNor  (None, 28, 28, 144)  576        ['block_3_depthwise[0][0]']      \n",
      " malization)                                                                                      \n",
      "                                                                                                  \n",
      " block_3_depthwise_relu (ReLU)  (None, 28, 28, 144)  0           ['block_3_depthwise_BN[0][0]']   \n",
      "                                                                                                  \n",
      " block_3_project (Conv2D)       (None, 28, 28, 32)   4608        ['block_3_depthwise_relu[0][0]'] \n",
      "                                                                                                  \n",
      " block_3_project_BN (BatchNorma  (None, 28, 28, 32)  128         ['block_3_project[0][0]']        \n",
      " lization)                                                                                        \n",
      "                                                                                                  \n",
      " block_4_expand (Conv2D)        (None, 28, 28, 192)  6144        ['block_3_project_BN[0][0]']     \n",
      "                                                                                                  \n",
      " block_4_expand_BN (BatchNormal  (None, 28, 28, 192)  768        ['block_4_expand[0][0]']         \n",
      " ization)                                                                                         \n",
      "                                                                                                  \n",
      " block_4_expand_relu (ReLU)     (None, 28, 28, 192)  0           ['block_4_expand_BN[0][0]']      \n",
      "                                                                                                  \n",
      " block_4_depthwise (DepthwiseCo  (None, 28, 28, 192)  1728       ['block_4_expand_relu[0][0]']    \n",
      " nv2D)                                                                                            \n",
      "                                                                                                  \n",
      " block_4_depthwise_BN (BatchNor  (None, 28, 28, 192)  768        ['block_4_depthwise[0][0]']      \n",
      " malization)                                                                                      \n",
      "                                                                                                  \n",
      " block_4_depthwise_relu (ReLU)  (None, 28, 28, 192)  0           ['block_4_depthwise_BN[0][0]']   \n",
      "                                                                                                  \n",
      " block_4_project (Conv2D)       (None, 28, 28, 32)   6144        ['block_4_depthwise_relu[0][0]'] \n",
      "                                                                                                  \n",
      " block_4_project_BN (BatchNorma  (None, 28, 28, 32)  128         ['block_4_project[0][0]']        \n",
      " lization)                                                                                        \n",
      "                                                                                                  \n",
      " block_4_add (Add)              (None, 28, 28, 32)   0           ['block_3_project_BN[0][0]',     \n",
      "                                                                  'block_4_project_BN[0][0]']     \n",
      "                                                                                                  \n",
      " block_5_expand (Conv2D)        (None, 28, 28, 192)  6144        ['block_4_add[0][0]']            \n",
      "                                                                                                  \n",
      " block_5_expand_BN (BatchNormal  (None, 28, 28, 192)  768        ['block_5_expand[0][0]']         \n",
      " ization)                                                                                         \n",
      "                                                                                                  \n",
      " block_5_expand_relu (ReLU)     (None, 28, 28, 192)  0           ['block_5_expand_BN[0][0]']      \n",
      "                                                                                                  \n",
      " block_5_depthwise (DepthwiseCo  (None, 28, 28, 192)  1728       ['block_5_expand_relu[0][0]']    \n",
      " nv2D)                                                                                            \n",
      "                                                                                                  \n",
      " block_5_depthwise_BN (BatchNor  (None, 28, 28, 192)  768        ['block_5_depthwise[0][0]']      \n",
      " malization)                                                                                      \n",
      "                                                                                                  \n",
      " block_5_depthwise_relu (ReLU)  (None, 28, 28, 192)  0           ['block_5_depthwise_BN[0][0]']   \n",
      "                                                                                                  \n",
      " block_5_project (Conv2D)       (None, 28, 28, 32)   6144        ['block_5_depthwise_relu[0][0]'] \n",
      "                                                                                                  \n",
      " block_5_project_BN (BatchNorma  (None, 28, 28, 32)  128         ['block_5_project[0][0]']        \n",
      " lization)                                                                                        \n",
      "                                                                                                  \n",
      " block_5_add (Add)              (None, 28, 28, 32)   0           ['block_4_add[0][0]',            \n",
      "                                                                  'block_5_project_BN[0][0]']     \n",
      "                                                                                                  \n",
      " block_6_expand (Conv2D)        (None, 28, 28, 192)  6144        ['block_5_add[0][0]']            \n",
      "                                                                                                  \n",
      " block_6_expand_BN (BatchNormal  (None, 28, 28, 192)  768        ['block_6_expand[0][0]']         \n",
      " ization)                                                                                         \n",
      "                                                                                                  \n",
      " block_6_expand_relu (ReLU)     (None, 28, 28, 192)  0           ['block_6_expand_BN[0][0]']      \n",
      "                                                                                                  \n",
      " block_6_pad (ZeroPadding2D)    (None, 29, 29, 192)  0           ['block_6_expand_relu[0][0]']    \n",
      "                                                                                                  \n",
      " block_6_depthwise (DepthwiseCo  (None, 14, 14, 192)  1728       ['block_6_pad[0][0]']            \n",
      " nv2D)                                                                                            \n",
      "                                                                                                  \n",
      " block_6_depthwise_BN (BatchNor  (None, 14, 14, 192)  768        ['block_6_depthwise[0][0]']      \n",
      " malization)                                                                                      \n",
      "                                                                                                  \n",
      " block_6_depthwise_relu (ReLU)  (None, 14, 14, 192)  0           ['block_6_depthwise_BN[0][0]']   \n",
      "                                                                                                  \n",
      " block_6_project (Conv2D)       (None, 14, 14, 64)   12288       ['block_6_depthwise_relu[0][0]'] \n",
      "                                                                                                  \n",
      " block_6_project_BN (BatchNorma  (None, 14, 14, 64)  256         ['block_6_project[0][0]']        \n",
      " lization)                                                                                        \n",
      "                                                                                                  \n",
      " block_7_expand (Conv2D)        (None, 14, 14, 384)  24576       ['block_6_project_BN[0][0]']     \n",
      "                                                                                                  \n",
      " block_7_expand_BN (BatchNormal  (None, 14, 14, 384)  1536       ['block_7_expand[0][0]']         \n",
      " ization)                                                                                         \n",
      "                                                                                                  \n",
      " block_7_expand_relu (ReLU)     (None, 14, 14, 384)  0           ['block_7_expand_BN[0][0]']      \n",
      "                                                                                                  \n",
      " block_7_depthwise (DepthwiseCo  (None, 14, 14, 384)  3456       ['block_7_expand_relu[0][0]']    \n",
      " nv2D)                                                                                            \n",
      "                                                                                                  \n",
      " block_7_depthwise_BN (BatchNor  (None, 14, 14, 384)  1536       ['block_7_depthwise[0][0]']      \n",
      " malization)                                                                                      \n",
      "                                                                                                  \n",
      " block_7_depthwise_relu (ReLU)  (None, 14, 14, 384)  0           ['block_7_depthwise_BN[0][0]']   \n",
      "                                                                                                  \n",
      " block_7_project (Conv2D)       (None, 14, 14, 64)   24576       ['block_7_depthwise_relu[0][0]'] \n",
      "                                                                                                  \n",
      " block_7_project_BN (BatchNorma  (None, 14, 14, 64)  256         ['block_7_project[0][0]']        \n",
      " lization)                                                                                        \n",
      "                                                                                                  \n",
      " block_7_add (Add)              (None, 14, 14, 64)   0           ['block_6_project_BN[0][0]',     \n",
      "                                                                  'block_7_project_BN[0][0]']     \n",
      "                                                                                                  \n",
      " block_8_expand (Conv2D)        (None, 14, 14, 384)  24576       ['block_7_add[0][0]']            \n",
      "                                                                                                  \n",
      " block_8_expand_BN (BatchNormal  (None, 14, 14, 384)  1536       ['block_8_expand[0][0]']         \n",
      " ization)                                                                                         \n",
      "                                                                                                  \n",
      " block_8_expand_relu (ReLU)     (None, 14, 14, 384)  0           ['block_8_expand_BN[0][0]']      \n",
      "                                                                                                  \n",
      " block_8_depthwise (DepthwiseCo  (None, 14, 14, 384)  3456       ['block_8_expand_relu[0][0]']    \n",
      " nv2D)                                                                                            \n",
      "                                                                                                  \n",
      " block_8_depthwise_BN (BatchNor  (None, 14, 14, 384)  1536       ['block_8_depthwise[0][0]']      \n",
      " malization)                                                                                      \n",
      "                                                                                                  \n",
      " block_8_depthwise_relu (ReLU)  (None, 14, 14, 384)  0           ['block_8_depthwise_BN[0][0]']   \n",
      "                                                                                                  \n",
      " block_8_project (Conv2D)       (None, 14, 14, 64)   24576       ['block_8_depthwise_relu[0][0]'] \n",
      "                                                                                                  \n",
      " block_8_project_BN (BatchNorma  (None, 14, 14, 64)  256         ['block_8_project[0][0]']        \n",
      " lization)                                                                                        \n",
      "                                                                                                  \n",
      " block_8_add (Add)              (None, 14, 14, 64)   0           ['block_7_add[0][0]',            \n",
      "                                                                  'block_8_project_BN[0][0]']     \n",
      "                                                                                                  \n",
      " block_9_expand (Conv2D)        (None, 14, 14, 384)  24576       ['block_8_add[0][0]']            \n",
      "                                                                                                  \n",
      " block_9_expand_BN (BatchNormal  (None, 14, 14, 384)  1536       ['block_9_expand[0][0]']         \n",
      " ization)                                                                                         \n",
      "                                                                                                  \n",
      " block_9_expand_relu (ReLU)     (None, 14, 14, 384)  0           ['block_9_expand_BN[0][0]']      \n",
      "                                                                                                  \n",
      " block_9_depthwise (DepthwiseCo  (None, 14, 14, 384)  3456       ['block_9_expand_relu[0][0]']    \n",
      " nv2D)                                                                                            \n",
      "                                                                                                  \n",
      " block_9_depthwise_BN (BatchNor  (None, 14, 14, 384)  1536       ['block_9_depthwise[0][0]']      \n",
      " malization)                                                                                      \n",
      "                                                                                                  \n",
      " block_9_depthwise_relu (ReLU)  (None, 14, 14, 384)  0           ['block_9_depthwise_BN[0][0]']   \n",
      "                                                                                                  \n",
      " block_9_project (Conv2D)       (None, 14, 14, 64)   24576       ['block_9_depthwise_relu[0][0]'] \n",
      "                                                                                                  \n",
      " block_9_project_BN (BatchNorma  (None, 14, 14, 64)  256         ['block_9_project[0][0]']        \n",
      " lization)                                                                                        \n",
      "                                                                                                  \n",
      " block_9_add (Add)              (None, 14, 14, 64)   0           ['block_8_add[0][0]',            \n",
      "                                                                  'block_9_project_BN[0][0]']     \n",
      "                                                                                                  \n",
      " block_10_expand (Conv2D)       (None, 14, 14, 384)  24576       ['block_9_add[0][0]']            \n",
      "                                                                                                  \n",
      " block_10_expand_BN (BatchNorma  (None, 14, 14, 384)  1536       ['block_10_expand[0][0]']        \n",
      " lization)                                                                                        \n",
      "                                                                                                  \n",
      " block_10_expand_relu (ReLU)    (None, 14, 14, 384)  0           ['block_10_expand_BN[0][0]']     \n",
      "                                                                                                  \n",
      " block_10_depthwise (DepthwiseC  (None, 14, 14, 384)  3456       ['block_10_expand_relu[0][0]']   \n",
      " onv2D)                                                                                           \n",
      "                                                                                                  \n",
      " block_10_depthwise_BN (BatchNo  (None, 14, 14, 384)  1536       ['block_10_depthwise[0][0]']     \n",
      " rmalization)                                                                                     \n",
      "                                                                                                  \n",
      " block_10_depthwise_relu (ReLU)  (None, 14, 14, 384)  0          ['block_10_depthwise_BN[0][0]']  \n",
      "                                                                                                  \n",
      " block_10_project (Conv2D)      (None, 14, 14, 96)   36864       ['block_10_depthwise_relu[0][0]']\n",
      "                                                                                                  \n",
      " block_10_project_BN (BatchNorm  (None, 14, 14, 96)  384         ['block_10_project[0][0]']       \n",
      " alization)                                                                                       \n",
      "                                                                                                  \n",
      " block_11_expand (Conv2D)       (None, 14, 14, 576)  55296       ['block_10_project_BN[0][0]']    \n",
      "                                                                                                  \n",
      " block_11_expand_BN (BatchNorma  (None, 14, 14, 576)  2304       ['block_11_expand[0][0]']        \n",
      " lization)                                                                                        \n",
      "                                                                                                  \n",
      " block_11_expand_relu (ReLU)    (None, 14, 14, 576)  0           ['block_11_expand_BN[0][0]']     \n",
      "                                                                                                  \n",
      " block_11_depthwise (DepthwiseC  (None, 14, 14, 576)  5184       ['block_11_expand_relu[0][0]']   \n",
      " onv2D)                                                                                           \n",
      "                                                                                                  \n",
      " block_11_depthwise_BN (BatchNo  (None, 14, 14, 576)  2304       ['block_11_depthwise[0][0]']     \n",
      " rmalization)                                                                                     \n",
      "                                                                                                  \n",
      " block_11_depthwise_relu (ReLU)  (None, 14, 14, 576)  0          ['block_11_depthwise_BN[0][0]']  \n",
      "                                                                                                  \n",
      " block_11_project (Conv2D)      (None, 14, 14, 96)   55296       ['block_11_depthwise_relu[0][0]']\n",
      "                                                                                                  \n",
      " block_11_project_BN (BatchNorm  (None, 14, 14, 96)  384         ['block_11_project[0][0]']       \n",
      " alization)                                                                                       \n",
      "                                                                                                  \n",
      " block_11_add (Add)             (None, 14, 14, 96)   0           ['block_10_project_BN[0][0]',    \n",
      "                                                                  'block_11_project_BN[0][0]']    \n",
      "                                                                                                  \n",
      " block_12_expand (Conv2D)       (None, 14, 14, 576)  55296       ['block_11_add[0][0]']           \n",
      "                                                                                                  \n",
      " block_12_expand_BN (BatchNorma  (None, 14, 14, 576)  2304       ['block_12_expand[0][0]']        \n",
      " lization)                                                                                        \n",
      "                                                                                                  \n",
      " block_12_expand_relu (ReLU)    (None, 14, 14, 576)  0           ['block_12_expand_BN[0][0]']     \n",
      "                                                                                                  \n",
      " block_12_depthwise (DepthwiseC  (None, 14, 14, 576)  5184       ['block_12_expand_relu[0][0]']   \n",
      " onv2D)                                                                                           \n",
      "                                                                                                  \n",
      " block_12_depthwise_BN (BatchNo  (None, 14, 14, 576)  2304       ['block_12_depthwise[0][0]']     \n",
      " rmalization)                                                                                     \n",
      "                                                                                                  \n",
      " block_12_depthwise_relu (ReLU)  (None, 14, 14, 576)  0          ['block_12_depthwise_BN[0][0]']  \n",
      "                                                                                                  \n",
      " block_12_project (Conv2D)      (None, 14, 14, 96)   55296       ['block_12_depthwise_relu[0][0]']\n",
      "                                                                                                  \n",
      " block_12_project_BN (BatchNorm  (None, 14, 14, 96)  384         ['block_12_project[0][0]']       \n",
      " alization)                                                                                       \n",
      "                                                                                                  \n",
      " block_12_add (Add)             (None, 14, 14, 96)   0           ['block_11_add[0][0]',           \n",
      "                                                                  'block_12_project_BN[0][0]']    \n",
      "                                                                                                  \n",
      " block_13_expand (Conv2D)       (None, 14, 14, 576)  55296       ['block_12_add[0][0]']           \n",
      "                                                                                                  \n",
      " block_13_expand_BN (BatchNorma  (None, 14, 14, 576)  2304       ['block_13_expand[0][0]']        \n",
      " lization)                                                                                        \n",
      "                                                                                                  \n",
      " block_13_expand_relu (ReLU)    (None, 14, 14, 576)  0           ['block_13_expand_BN[0][0]']     \n",
      "                                                                                                  \n",
      " block_13_pad (ZeroPadding2D)   (None, 15, 15, 576)  0           ['block_13_expand_relu[0][0]']   \n",
      "                                                                                                  \n",
      " block_13_depthwise (DepthwiseC  (None, 7, 7, 576)   5184        ['block_13_pad[0][0]']           \n",
      " onv2D)                                                                                           \n",
      "                                                                                                  \n",
      " block_13_depthwise_BN (BatchNo  (None, 7, 7, 576)   2304        ['block_13_depthwise[0][0]']     \n",
      " rmalization)                                                                                     \n",
      "                                                                                                  \n",
      " block_13_depthwise_relu (ReLU)  (None, 7, 7, 576)   0           ['block_13_depthwise_BN[0][0]']  \n",
      "                                                                                                  \n",
      " block_13_project (Conv2D)      (None, 7, 7, 160)    92160       ['block_13_depthwise_relu[0][0]']\n",
      "                                                                                                  \n",
      " block_13_project_BN (BatchNorm  (None, 7, 7, 160)   640         ['block_13_project[0][0]']       \n",
      " alization)                                                                                       \n",
      "                                                                                                  \n",
      " block_14_expand (Conv2D)       (None, 7, 7, 960)    153600      ['block_13_project_BN[0][0]']    \n",
      "                                                                                                  \n",
      " block_14_expand_BN (BatchNorma  (None, 7, 7, 960)   3840        ['block_14_expand[0][0]']        \n",
      " lization)                                                                                        \n",
      "                                                                                                  \n",
      " block_14_expand_relu (ReLU)    (None, 7, 7, 960)    0           ['block_14_expand_BN[0][0]']     \n",
      "                                                                                                  \n",
      " block_14_depthwise (DepthwiseC  (None, 7, 7, 960)   8640        ['block_14_expand_relu[0][0]']   \n",
      " onv2D)                                                                                           \n",
      "                                                                                                  \n",
      " block_14_depthwise_BN (BatchNo  (None, 7, 7, 960)   3840        ['block_14_depthwise[0][0]']     \n",
      " rmalization)                                                                                     \n",
      "                                                                                                  \n",
      " block_14_depthwise_relu (ReLU)  (None, 7, 7, 960)   0           ['block_14_depthwise_BN[0][0]']  \n",
      "                                                                                                  \n",
      " block_14_project (Conv2D)      (None, 7, 7, 160)    153600      ['block_14_depthwise_relu[0][0]']\n",
      "                                                                                                  \n",
      " block_14_project_BN (BatchNorm  (None, 7, 7, 160)   640         ['block_14_project[0][0]']       \n",
      " alization)                                                                                       \n",
      "                                                                                                  \n",
      " block_14_add (Add)             (None, 7, 7, 160)    0           ['block_13_project_BN[0][0]',    \n",
      "                                                                  'block_14_project_BN[0][0]']    \n",
      "                                                                                                  \n",
      " block_15_expand (Conv2D)       (None, 7, 7, 960)    153600      ['block_14_add[0][0]']           \n",
      "                                                                                                  \n",
      " block_15_expand_BN (BatchNorma  (None, 7, 7, 960)   3840        ['block_15_expand[0][0]']        \n",
      " lization)                                                                                        \n",
      "                                                                                                  \n",
      " block_15_expand_relu (ReLU)    (None, 7, 7, 960)    0           ['block_15_expand_BN[0][0]']     \n",
      "                                                                                                  \n",
      " block_15_depthwise (DepthwiseC  (None, 7, 7, 960)   8640        ['block_15_expand_relu[0][0]']   \n",
      " onv2D)                                                                                           \n",
      "                                                                                                  \n",
      " block_15_depthwise_BN (BatchNo  (None, 7, 7, 960)   3840        ['block_15_depthwise[0][0]']     \n",
      " rmalization)                                                                                     \n",
      "                                                                                                  \n",
      " block_15_depthwise_relu (ReLU)  (None, 7, 7, 960)   0           ['block_15_depthwise_BN[0][0]']  \n",
      "                                                                                                  \n",
      " block_15_project (Conv2D)      (None, 7, 7, 160)    153600      ['block_15_depthwise_relu[0][0]']\n",
      "                                                                                                  \n",
      " block_15_project_BN (BatchNorm  (None, 7, 7, 160)   640         ['block_15_project[0][0]']       \n",
      " alization)                                                                                       \n",
      "                                                                                                  \n",
      " block_15_add (Add)             (None, 7, 7, 160)    0           ['block_14_add[0][0]',           \n",
      "                                                                  'block_15_project_BN[0][0]']    \n",
      "                                                                                                  \n",
      " block_16_expand (Conv2D)       (None, 7, 7, 960)    153600      ['block_15_add[0][0]']           \n",
      "                                                                                                  \n",
      " block_16_expand_BN (BatchNorma  (None, 7, 7, 960)   3840        ['block_16_expand[0][0]']        \n",
      " lization)                                                                                        \n",
      "                                                                                                  \n",
      " block_16_expand_relu (ReLU)    (None, 7, 7, 960)    0           ['block_16_expand_BN[0][0]']     \n",
      "                                                                                                  \n",
      " block_16_depthwise (DepthwiseC  (None, 7, 7, 960)   8640        ['block_16_expand_relu[0][0]']   \n",
      " onv2D)                                                                                           \n",
      "                                                                                                  \n",
      " block_16_depthwise_BN (BatchNo  (None, 7, 7, 960)   3840        ['block_16_depthwise[0][0]']     \n",
      " rmalization)                                                                                     \n",
      "                                                                                                  \n",
      " block_16_depthwise_relu (ReLU)  (None, 7, 7, 960)   0           ['block_16_depthwise_BN[0][0]']  \n",
      "                                                                                                  \n",
      " block_16_project (Conv2D)      (None, 7, 7, 320)    307200      ['block_16_depthwise_relu[0][0]']\n",
      "                                                                                                  \n",
      " block_16_project_BN (BatchNorm  (None, 7, 7, 320)   1280        ['block_16_project[0][0]']       \n",
      " alization)                                                                                       \n",
      "                                                                                                  \n",
      " Conv_1 (Conv2D)                (None, 7, 7, 1280)   409600      ['block_16_project_BN[0][0]']    \n",
      "                                                                                                  \n",
      " Conv_1_bn (BatchNormalization)  (None, 7, 7, 1280)  5120        ['Conv_1[0][0]']                 \n",
      "                                                                                                  \n",
      " out_relu (ReLU)                (None, 7, 7, 1280)   0           ['Conv_1_bn[0][0]']              \n",
      "                                                                                                  \n",
      "==================================================================================================\n",
      "Total params: 2,257,984\n",
      "Trainable params: 0\n",
      "Non-trainable params: 2,257,984\n",
      "__________________________________________________________________________________________________\n"
     ]
    }
   ],
   "source": [
    "# Let's take a look at the base model architecture\n",
    "base_model.summary()"
   ]
  },
  {
   "cell_type": "code",
   "execution_count": 83,
   "id": "5f67c93d-23f2-49cd-9861-dcabbf2944f3",
   "metadata": {},
   "outputs": [
    {
     "name": "stdout",
     "output_type": "stream",
     "text": [
      "(32, 1280)\n"
     ]
    }
   ],
   "source": [
    "global_average_layer = tf.keras.layers.GlobalAveragePooling2D()\n",
    "feature_batch_average = global_average_layer(feature_batch)\n",
    "print(feature_batch_average.shape)"
   ]
  },
  {
   "cell_type": "code",
   "execution_count": 84,
   "id": "f19b9d5c-3eac-4d0c-a532-283658b3da11",
   "metadata": {},
   "outputs": [
    {
     "name": "stdout",
     "output_type": "stream",
     "text": [
      "(32, 1)\n"
     ]
    }
   ],
   "source": [
    "prediction_layer = tf.keras.layers.Dense(1)\n",
    "prediction_batch = prediction_layer(feature_batch_average)\n",
    "print(prediction_batch.shape)"
   ]
  },
  {
   "cell_type": "code",
   "execution_count": 107,
   "id": "d8d38ff1-eb44-4d8e-b4e3-fb08d836cf53",
   "metadata": {},
   "outputs": [],
   "source": [
    "imx, imy =IMG_SIZE\n",
    "inputs = tf.keras.Input(shape=(imx,imy , 3))\n",
    "#x = data_augmentation(inputs)\n",
    "x = preprocess_input(inputs)\n",
    "x = base_model(x, training=False)\n",
    "x = global_average_layer(x)\n",
    "#x = tf.keras.layers.Dropout(0.2)(x)\n",
    "outputs = prediction_layer(x)\n",
    "model = tf.keras.Model(inputs, outputs)"
   ]
  },
  {
   "cell_type": "code",
   "execution_count": 149,
   "id": "5a7d62ed-3b4f-4f10-9489-39b63eb63b77",
   "metadata": {},
   "outputs": [],
   "source": [
    "base_learning_rate = 0.0001\n",
    "model.compile(optimizer=tf.keras.optimizers.Adam(learning_rate=base_learning_rate),\n",
    "              loss=tf.keras.losses.MeanSquaredError(),\n",
    "              metrics=['mean_squared_error'])"
   ]
  },
  {
   "cell_type": "code",
   "execution_count": 109,
   "id": "a97c31d6-794f-4837-b438-ec5dc0c8b249",
   "metadata": {},
   "outputs": [],
   "source": [
    "model.compile(\n",
    "    optimizer=tf.optimizers.Adam(learning_rate=0.1),\n",
    "    loss='mean_squared_error')"
   ]
  },
  {
   "cell_type": "code",
   "execution_count": 110,
   "id": "6dc7288e-e6bf-40dd-b6a5-115b85769899",
   "metadata": {},
   "outputs": [
    {
     "name": "stdout",
     "output_type": "stream",
     "text": [
      "Model: \"model_1\"\n",
      "_________________________________________________________________\n",
      " Layer (type)                Output Shape              Param #   \n",
      "=================================================================\n",
      " input_7 (InputLayer)        [(None, 224, 224, 3)]     0         \n",
      "                                                                 \n",
      " tf.math.truediv_1 (TFOpLamb  (None, 224, 224, 3)      0         \n",
      " da)                                                             \n",
      "                                                                 \n",
      " tf.math.subtract_1 (TFOpLam  (None, 224, 224, 3)      0         \n",
      " bda)                                                            \n",
      "                                                                 \n",
      " mobilenetv2_1.00_224 (Funct  (None, 7, 7, 1280)       2257984   \n",
      " ional)                                                          \n",
      "                                                                 \n",
      " global_average_pooling2d (G  (None, 1280)             0         \n",
      " lobalAveragePooling2D)                                          \n",
      "                                                                 \n",
      " dense (Dense)               (None, 1)                 1281      \n",
      "                                                                 \n",
      "=================================================================\n",
      "Total params: 2,259,265\n",
      "Trainable params: 1,281\n",
      "Non-trainable params: 2,257,984\n",
      "_________________________________________________________________\n"
     ]
    }
   ],
   "source": [
    "model.summary()"
   ]
  },
  {
   "cell_type": "markdown",
   "id": "f8076e60-8046-4f54-9238-11fdeac8b563",
   "metadata": {},
   "source": [
    "#### Train the model"
   ]
  },
  {
   "cell_type": "code",
   "execution_count": 95,
   "id": "0785ed15-f8c6-40d6-8990-04f344bccab1",
   "metadata": {},
   "outputs": [],
   "source": [
    "im, l = next(iter(train_dataset))"
   ]
  },
  {
   "cell_type": "code",
   "execution_count": 150,
   "id": "30b8c531-b5e5-4ce1-9f3a-b8f856b7943c",
   "metadata": {},
   "outputs": [
    {
     "name": "stdout",
     "output_type": "stream",
     "text": [
      "43/43 [==============================] - 1s 16ms/step - loss: 1.2720 - mean_squared_error: 1.2720\n"
     ]
    }
   ],
   "source": [
    "initial_epochs = 10\n",
    "\n",
    "loss0, accuracy0 = model.evaluate(validation_dataset)"
   ]
  },
  {
   "cell_type": "code",
   "execution_count": 151,
   "id": "bdd07f65-4077-454d-90ca-b308f8d25920",
   "metadata": {},
   "outputs": [
    {
     "name": "stdout",
     "output_type": "stream",
     "text": [
      "Epoch 1/10\n",
      "43/43 [==============================] - 3s 32ms/step - loss: 1.2334 - mean_squared_error: 1.2334 - val_loss: 1.2301 - val_mean_squared_error: 1.2301\n",
      "Epoch 2/10\n",
      "43/43 [==============================] - 1s 32ms/step - loss: 1.2308 - mean_squared_error: 1.2308 - val_loss: 1.2299 - val_mean_squared_error: 1.2299\n",
      "Epoch 3/10\n",
      "43/43 [==============================] - 1s 32ms/step - loss: 1.2309 - mean_squared_error: 1.2309 - val_loss: 1.2298 - val_mean_squared_error: 1.2298\n",
      "Epoch 4/10\n",
      "43/43 [==============================] - 1s 32ms/step - loss: 1.2309 - mean_squared_error: 1.2309 - val_loss: 1.2298 - val_mean_squared_error: 1.2298\n",
      "Epoch 5/10\n",
      "43/43 [==============================] - 1s 32ms/step - loss: 1.2309 - mean_squared_error: 1.2309 - val_loss: 1.2297 - val_mean_squared_error: 1.2297\n",
      "Epoch 6/10\n",
      "43/43 [==============================] - 1s 32ms/step - loss: 1.2308 - mean_squared_error: 1.2308 - val_loss: 1.2297 - val_mean_squared_error: 1.2297\n",
      "Epoch 7/10\n",
      "43/43 [==============================] - 1s 32ms/step - loss: 1.2308 - mean_squared_error: 1.2308 - val_loss: 1.2296 - val_mean_squared_error: 1.2296\n",
      "Epoch 8/10\n",
      "43/43 [==============================] - 1s 32ms/step - loss: 1.2307 - mean_squared_error: 1.2307 - val_loss: 1.2296 - val_mean_squared_error: 1.2296\n",
      "Epoch 9/10\n",
      "43/43 [==============================] - 1s 32ms/step - loss: 1.2307 - mean_squared_error: 1.2307 - val_loss: 1.2295 - val_mean_squared_error: 1.2295\n",
      "Epoch 10/10\n",
      "43/43 [==============================] - 1s 32ms/step - loss: 1.2307 - mean_squared_error: 1.2307 - val_loss: 1.2295 - val_mean_squared_error: 1.2295\n"
     ]
    }
   ],
   "source": [
    "history = model.fit(train_ds,\n",
    "                    epochs=initial_epochs,\n",
    "                    validation_data=validation_dataset)"
   ]
  },
  {
   "cell_type": "code",
   "execution_count": 156,
   "id": "938101f5-2b47-458f-b1f7-78990fbd7547",
   "metadata": {},
   "outputs": [],
   "source": [
    "plt.close()"
   ]
  },
  {
   "cell_type": "markdown",
   "id": "0ce4f4fd-eeff-470e-a1a8-1472a4dd8743",
   "metadata": {},
   "source": [
    "#### Learning curves"
   ]
  },
  {
   "cell_type": "code",
   "execution_count": 154,
   "id": "3b7127e2-ac4b-434a-a398-725bd7bfe62b",
   "metadata": {},
   "outputs": [
    {
     "data": {
      "text/plain": [
       "{'loss': [1.2333778142929077,\n",
       "  1.2308160066604614,\n",
       "  1.230926275253296,\n",
       "  1.2309075593948364,\n",
       "  1.2308698892593384,\n",
       "  1.230828881263733,\n",
       "  1.2307871580123901,\n",
       "  1.23074471950531,\n",
       "  1.23070228099823,\n",
       "  1.2306599617004395],\n",
       " 'mean_squared_error': [1.2333778142929077,\n",
       "  1.2308160066604614,\n",
       "  1.230926275253296,\n",
       "  1.2309075593948364,\n",
       "  1.2308698892593384,\n",
       "  1.230828881263733,\n",
       "  1.2307871580123901,\n",
       "  1.23074471950531,\n",
       "  1.23070228099823,\n",
       "  1.2306599617004395],\n",
       " 'val_loss': [1.2301486730575562,\n",
       "  1.2298517227172852,\n",
       "  1.2298038005828857,\n",
       "  1.2297600507736206,\n",
       "  1.2297163009643555,\n",
       "  1.2296727895736694,\n",
       "  1.2296292781829834,\n",
       "  1.2295862436294556,\n",
       "  1.22954261302948,\n",
       "  1.2294995784759521],\n",
       " 'val_mean_squared_error': [1.2301486730575562,\n",
       "  1.2298517227172852,\n",
       "  1.2298038005828857,\n",
       "  1.2297600507736206,\n",
       "  1.2297163009643555,\n",
       "  1.2296727895736694,\n",
       "  1.2296292781829834,\n",
       "  1.2295862436294556,\n",
       "  1.22954261302948,\n",
       "  1.2294995784759521]}"
      ]
     },
     "execution_count": 154,
     "metadata": {},
     "output_type": "execute_result"
    }
   ],
   "source": [
    "history.history"
   ]
  },
  {
   "cell_type": "code",
   "execution_count": 157,
   "id": "13baafe6-5914-4613-9958-fee91c6fa114",
   "metadata": {},
   "outputs": [
    {
     "data": {
      "image/png": "[encoded data removed]",
      "text/plain": [
       "<Figure size 800x800 with 2 Axes>"
      ]
     },
     "metadata": {},
     "output_type": "display_data"
    }
   ],
   "source": [
    "acc = history.history['mean_squared_error']\n",
    "val_acc = history.history['val_mean_squared_error']\n",
    "\n",
    "loss = history.history['loss']\n",
    "val_loss = history.history['val_loss']\n",
    "\n",
    "plt.figure(figsize=(8, 8))\n",
    "plt.subplot(2, 1, 1)\n",
    "plt.plot(acc, label='Training MSE')\n",
    "plt.plot(val_acc, label='Validation MSE')\n",
    "plt.legend(loc='lower right')\n",
    "plt.ylabel('Accuracy')\n",
    "#plt.ylim([min(plt.ylim()),1])\n",
    "plt.title('Training and Validation MSE')\n",
    "\n",
    "plt.subplot(2, 1, 2)\n",
    "plt.plot(loss, label='Training Loss')\n",
    "plt.plot(val_loss, label='Validation Loss')\n",
    "plt.legend(loc='upper right')\n",
    "plt.ylabel('MSE')\n",
    "#plt.ylim([0,1.0])\n",
    "plt.title('Training and Validation Loss')\n",
    "plt.xlabel('epoch')\n",
    "plt.show()"
   ]
  },
  {
   "cell_type": "markdown",
   "id": "040c6270-3f71-440a-bf83-dfb85188822b",
   "metadata": {},
   "source": [
    "#### Fine Tuning"
   ]
  },
  {
   "cell_type": "code",
   "execution_count": 158,
   "id": "e043fcad-ef7b-42bb-93fb-0a699886da0c",
   "metadata": {},
   "outputs": [],
   "source": [
    "base_model.trainable = True"
   ]
  },
  {
   "cell_type": "code",
   "execution_count": 159,
   "id": "a81fa0a9-0f5b-461b-abfc-fb538216456b",
   "metadata": {},
   "outputs": [
    {
     "name": "stdout",
     "output_type": "stream",
     "text": [
      "Number of layers in the base model:  154\n"
     ]
    }
   ],
   "source": [
    "# Let's take a look to see how many layers are in the base model\n",
    "print(\"Number of layers in the base model: \", len(base_model.layers))\n",
    "\n",
    "# Fine-tune from this layer onwards\n",
    "fine_tune_at = 100\n",
    "\n",
    "# Freeze all the layers before the `fine_tune_at` layer\n",
    "for layer in base_model.layers[:fine_tune_at]:\n",
    "  layer.trainable = False"
   ]
  },
  {
   "cell_type": "code",
   "execution_count": 160,
   "id": "ffd58e8e-ddf8-49a9-9848-b30348ec2521",
   "metadata": {},
   "outputs": [],
   "source": [
    "model.compile(optimizer=tf.keras.optimizers.Adam(learning_rate=base_learning_rate),\n",
    "              loss=tf.keras.losses.MeanSquaredError(),\n",
    "              metrics=['mean_squared_error'])"
   ]
  },
  {
   "cell_type": "code",
   "execution_count": 161,
   "id": "f69f40ea-9a08-41fc-b57f-cf6172808e94",
   "metadata": {},
   "outputs": [
    {
     "name": "stdout",
     "output_type": "stream",
     "text": [
      "Model: \"model_1\"\n",
      "_________________________________________________________________\n",
      " Layer (type)                Output Shape              Param #   \n",
      "=================================================================\n",
      " input_7 (InputLayer)        [(None, 224, 224, 3)]     0         \n",
      "                                                                 \n",
      " tf.math.truediv_1 (TFOpLamb  (None, 224, 224, 3)      0         \n",
      " da)                                                             \n",
      "                                                                 \n",
      " tf.math.subtract_1 (TFOpLam  (None, 224, 224, 3)      0         \n",
      " bda)                                                            \n",
      "                                                                 \n",
      " mobilenetv2_1.00_224 (Funct  (None, 7, 7, 1280)       2257984   \n",
      " ional)                                                          \n",
      "                                                                 \n",
      " global_average_pooling2d (G  (None, 1280)             0         \n",
      " lobalAveragePooling2D)                                          \n",
      "                                                                 \n",
      " dense (Dense)               (None, 1)                 1281      \n",
      "                                                                 \n",
      "=================================================================\n",
      "Total params: 2,259,265\n",
      "Trainable params: 1,862,721\n",
      "Non-trainable params: 396,544\n",
      "_________________________________________________________________\n"
     ]
    }
   ],
   "source": [
    "model.summary()"
   ]
  },
  {
   "cell_type": "code",
   "execution_count": 162,
   "id": "ab5941a2-9579-47b0-9040-fe3449494b3d",
   "metadata": {},
   "outputs": [
    {
     "data": {
      "text/plain": [
       "56"
      ]
     },
     "execution_count": 162,
     "metadata": {},
     "output_type": "execute_result"
    }
   ],
   "source": [
    "len(model.trainable_variables)"
   ]
  },
  {
   "cell_type": "code",
   "execution_count": 164,
   "id": "f3fe91d4-63d0-4501-9ba3-c8597788963a",
   "metadata": {},
   "outputs": [
    {
     "name": "stdout",
     "output_type": "stream",
     "text": [
      "Epoch 10/110\n",
      "43/43 [==============================] - 2s 40ms/step - loss: 1.2821 - mean_squared_error: 1.2821 - val_loss: 1.2542 - val_mean_squared_error: 1.2542\n",
      "Epoch 11/110\n",
      "43/43 [==============================] - 2s 39ms/step - loss: 1.2815 - mean_squared_error: 1.2815 - val_loss: 1.2609 - val_mean_squared_error: 1.2609\n",
      "Epoch 12/110\n",
      "43/43 [==============================] - 2s 39ms/step - loss: 1.2874 - mean_squared_error: 1.2874 - val_loss: 1.2734 - val_mean_squared_error: 1.2734\n",
      "Epoch 13/110\n",
      "43/43 [==============================] - 2s 39ms/step - loss: 1.2923 - mean_squared_error: 1.2923 - val_loss: 1.2687 - val_mean_squared_error: 1.2687\n",
      "Epoch 14/110\n",
      "43/43 [==============================] - 2s 39ms/step - loss: 1.2904 - mean_squared_error: 1.2904 - val_loss: 1.2569 - val_mean_squared_error: 1.2569\n",
      "Epoch 15/110\n",
      "43/43 [==============================] - 2s 39ms/step - loss: 1.2864 - mean_squared_error: 1.2864 - val_loss: 1.2676 - val_mean_squared_error: 1.2676\n",
      "Epoch 16/110\n",
      "43/43 [==============================] - 2s 39ms/step - loss: 1.2901 - mean_squared_error: 1.2901 - val_loss: 1.2760 - val_mean_squared_error: 1.2760\n",
      "Epoch 17/110\n",
      "43/43 [==============================] - 2s 39ms/step - loss: 1.2923 - mean_squared_error: 1.2923 - val_loss: 1.4661 - val_mean_squared_error: 1.4661\n",
      "Epoch 18/110\n",
      "43/43 [==============================] - 2s 39ms/step - loss: 1.3304 - mean_squared_error: 1.3304 - val_loss: 1.2508 - val_mean_squared_error: 1.2508\n",
      "Epoch 19/110\n",
      "43/43 [==============================] - 2s 39ms/step - loss: 1.2689 - mean_squared_error: 1.2689 - val_loss: 1.2485 - val_mean_squared_error: 1.2485\n",
      "Epoch 20/110\n",
      "43/43 [==============================] - 2s 39ms/step - loss: 1.2600 - mean_squared_error: 1.2600 - val_loss: 1.2448 - val_mean_squared_error: 1.2448\n",
      "Epoch 21/110\n",
      "43/43 [==============================] - 2s 39ms/step - loss: 1.2623 - mean_squared_error: 1.2623 - val_loss: 1.2482 - val_mean_squared_error: 1.2482\n",
      "Epoch 22/110\n",
      "43/43 [==============================] - 2s 39ms/step - loss: 1.2596 - mean_squared_error: 1.2596 - val_loss: 1.2441 - val_mean_squared_error: 1.2441\n",
      "Epoch 23/110\n",
      "43/43 [==============================] - 2s 39ms/step - loss: 1.2669 - mean_squared_error: 1.2669 - val_loss: 1.2436 - val_mean_squared_error: 1.2436\n",
      "Epoch 24/110\n",
      "43/43 [==============================] - 2s 39ms/step - loss: 1.2635 - mean_squared_error: 1.2635 - val_loss: 1.2492 - val_mean_squared_error: 1.2492\n",
      "Epoch 25/110\n",
      "43/43 [==============================] - 2s 39ms/step - loss: 1.2583 - mean_squared_error: 1.2583 - val_loss: 1.2457 - val_mean_squared_error: 1.2457\n",
      "Epoch 26/110\n",
      "43/43 [==============================] - 2s 39ms/step - loss: 1.2566 - mean_squared_error: 1.2566 - val_loss: 1.2441 - val_mean_squared_error: 1.2441\n",
      "Epoch 27/110\n",
      "43/43 [==============================] - 2s 39ms/step - loss: 1.2570 - mean_squared_error: 1.2570 - val_loss: 1.2421 - val_mean_squared_error: 1.2421\n",
      "Epoch 28/110\n",
      "43/43 [==============================] - 2s 39ms/step - loss: 1.2591 - mean_squared_error: 1.2591 - val_loss: 1.2432 - val_mean_squared_error: 1.2432\n",
      "Epoch 29/110\n",
      "43/43 [==============================] - 2s 39ms/step - loss: 1.2597 - mean_squared_error: 1.2597 - val_loss: 1.2422 - val_mean_squared_error: 1.2422\n",
      "Epoch 30/110\n",
      "43/43 [==============================] - 2s 39ms/step - loss: 1.2593 - mean_squared_error: 1.2593 - val_loss: 1.2411 - val_mean_squared_error: 1.2411\n",
      "Epoch 31/110\n",
      "43/43 [==============================] - 2s 40ms/step - loss: 1.2593 - mean_squared_error: 1.2593 - val_loss: 1.2420 - val_mean_squared_error: 1.2420\n",
      "Epoch 32/110\n",
      "43/43 [==============================] - 2s 39ms/step - loss: 1.2584 - mean_squared_error: 1.2584 - val_loss: 1.2408 - val_mean_squared_error: 1.2408\n",
      "Epoch 33/110\n",
      "43/43 [==============================] - 2s 39ms/step - loss: 1.2590 - mean_squared_error: 1.2590 - val_loss: 1.2439 - val_mean_squared_error: 1.2439\n",
      "Epoch 34/110\n",
      "43/43 [==============================] - 2s 39ms/step - loss: 1.2613 - mean_squared_error: 1.2613 - val_loss: 1.2436 - val_mean_squared_error: 1.2436\n",
      "Epoch 35/110\n",
      "43/43 [==============================] - 2s 39ms/step - loss: 1.2590 - mean_squared_error: 1.2590 - val_loss: 1.2442 - val_mean_squared_error: 1.2442\n",
      "Epoch 36/110\n",
      "43/43 [==============================] - 2s 39ms/step - loss: 1.2575 - mean_squared_error: 1.2575 - val_loss: 1.2422 - val_mean_squared_error: 1.2422\n",
      "Epoch 37/110\n",
      "43/43 [==============================] - 2s 39ms/step - loss: 1.2590 - mean_squared_error: 1.2590 - val_loss: 1.2445 - val_mean_squared_error: 1.2445\n",
      "Epoch 38/110\n",
      "43/43 [==============================] - 2s 39ms/step - loss: 1.2536 - mean_squared_error: 1.2536 - val_loss: 1.2434 - val_mean_squared_error: 1.2434\n",
      "Epoch 39/110\n",
      "43/43 [==============================] - 2s 39ms/step - loss: 1.2538 - mean_squared_error: 1.2538 - val_loss: 1.2431 - val_mean_squared_error: 1.2431\n",
      "Epoch 40/110\n",
      "43/43 [==============================] - 2s 39ms/step - loss: 1.2536 - mean_squared_error: 1.2536 - val_loss: 1.2424 - val_mean_squared_error: 1.2424\n",
      "Epoch 41/110\n",
      "43/43 [==============================] - 2s 39ms/step - loss: 1.2532 - mean_squared_error: 1.2532 - val_loss: 1.2426 - val_mean_squared_error: 1.2426\n",
      "Epoch 42/110\n",
      "43/43 [==============================] - 2s 39ms/step - loss: 1.2523 - mean_squared_error: 1.2523 - val_loss: 1.2415 - val_mean_squared_error: 1.2415\n",
      "Epoch 43/110\n",
      "43/43 [==============================] - 2s 39ms/step - loss: 1.2530 - mean_squared_error: 1.2530 - val_loss: 1.2425 - val_mean_squared_error: 1.2425\n",
      "Epoch 44/110\n",
      "43/43 [==============================] - 2s 39ms/step - loss: 1.2533 - mean_squared_error: 1.2533 - val_loss: 1.2414 - val_mean_squared_error: 1.2414\n",
      "Epoch 45/110\n",
      "43/43 [==============================] - 2s 39ms/step - loss: 1.2550 - mean_squared_error: 1.2550 - val_loss: 1.2418 - val_mean_squared_error: 1.2418\n",
      "Epoch 46/110\n",
      "43/43 [==============================] - 2s 39ms/step - loss: 1.2539 - mean_squared_error: 1.2539 - val_loss: 1.2416 - val_mean_squared_error: 1.2416\n",
      "Epoch 47/110\n",
      "43/43 [==============================] - 2s 39ms/step - loss: 1.2539 - mean_squared_error: 1.2539 - val_loss: 1.2411 - val_mean_squared_error: 1.2411\n",
      "Epoch 48/110\n",
      "43/43 [==============================] - 2s 39ms/step - loss: 1.2556 - mean_squared_error: 1.2556 - val_loss: 1.2416 - val_mean_squared_error: 1.2416\n",
      "Epoch 49/110\n",
      "43/43 [==============================] - 2s 39ms/step - loss: 1.2536 - mean_squared_error: 1.2536 - val_loss: 1.2420 - val_mean_squared_error: 1.2420\n",
      "Epoch 50/110\n",
      "43/43 [==============================] - 2s 39ms/step - loss: 1.2575 - mean_squared_error: 1.2575 - val_loss: 1.2408 - val_mean_squared_error: 1.2408\n",
      "Epoch 51/110\n",
      "43/43 [==============================] - 2s 39ms/step - loss: 1.2555 - mean_squared_error: 1.2555 - val_loss: 1.2393 - val_mean_squared_error: 1.2393\n",
      "Epoch 52/110\n",
      "43/43 [==============================] - 2s 39ms/step - loss: 1.2598 - mean_squared_error: 1.2598 - val_loss: 1.2404 - val_mean_squared_error: 1.2404\n",
      "Epoch 53/110\n",
      "43/43 [==============================] - 2s 39ms/step - loss: 1.2639 - mean_squared_error: 1.2639 - val_loss: 1.2405 - val_mean_squared_error: 1.2405\n",
      "Epoch 54/110\n",
      "43/43 [==============================] - 2s 39ms/step - loss: 1.2647 - mean_squared_error: 1.2647 - val_loss: 1.2431 - val_mean_squared_error: 1.2431\n",
      "Epoch 55/110\n",
      "43/43 [==============================] - 2s 39ms/step - loss: 1.2628 - mean_squared_error: 1.2628 - val_loss: 1.2458 - val_mean_squared_error: 1.2458\n",
      "Epoch 56/110\n",
      "43/43 [==============================] - 2s 39ms/step - loss: 1.2549 - mean_squared_error: 1.2549 - val_loss: 1.2408 - val_mean_squared_error: 1.2408\n",
      "Epoch 57/110\n",
      "43/43 [==============================] - 2s 39ms/step - loss: 1.2559 - mean_squared_error: 1.2559 - val_loss: 1.2417 - val_mean_squared_error: 1.2417\n",
      "Epoch 58/110\n",
      "43/43 [==============================] - 2s 39ms/step - loss: 1.2528 - mean_squared_error: 1.2528 - val_loss: 1.2387 - val_mean_squared_error: 1.2387\n",
      "Epoch 59/110\n",
      "43/43 [==============================] - 2s 39ms/step - loss: 1.2543 - mean_squared_error: 1.2543 - val_loss: 1.2374 - val_mean_squared_error: 1.2374\n",
      "Epoch 60/110\n",
      "43/43 [==============================] - 2s 39ms/step - loss: 1.2641 - mean_squared_error: 1.2641 - val_loss: 1.2391 - val_mean_squared_error: 1.2391\n",
      "Epoch 61/110\n",
      "43/43 [==============================] - 2s 39ms/step - loss: 1.2593 - mean_squared_error: 1.2593 - val_loss: 1.2389 - val_mean_squared_error: 1.2389\n",
      "Epoch 62/110\n",
      "43/43 [==============================] - 2s 39ms/step - loss: 1.2590 - mean_squared_error: 1.2590 - val_loss: 1.2400 - val_mean_squared_error: 1.2400\n",
      "Epoch 63/110\n",
      "43/43 [==============================] - 2s 39ms/step - loss: 1.2550 - mean_squared_error: 1.2550 - val_loss: 1.2389 - val_mean_squared_error: 1.2389\n",
      "Epoch 64/110\n",
      "43/43 [==============================] - 2s 39ms/step - loss: 1.2527 - mean_squared_error: 1.2527 - val_loss: 1.2402 - val_mean_squared_error: 1.2402\n",
      "Epoch 65/110\n",
      "43/43 [==============================] - 2s 39ms/step - loss: 1.2520 - mean_squared_error: 1.2520 - val_loss: 1.2395 - val_mean_squared_error: 1.2395\n",
      "Epoch 66/110\n",
      "43/43 [==============================] - 2s 39ms/step - loss: 1.2527 - mean_squared_error: 1.2527 - val_loss: 1.2414 - val_mean_squared_error: 1.2414\n",
      "Epoch 67/110\n",
      "43/43 [==============================] - 2s 39ms/step - loss: 1.2522 - mean_squared_error: 1.2522 - val_loss: 1.2400 - val_mean_squared_error: 1.2400\n",
      "Epoch 68/110\n",
      "43/43 [==============================] - 2s 39ms/step - loss: 1.2531 - mean_squared_error: 1.2531 - val_loss: 1.2391 - val_mean_squared_error: 1.2391\n",
      "Epoch 69/110\n",
      "43/43 [==============================] - 2s 39ms/step - loss: 1.2573 - mean_squared_error: 1.2573 - val_loss: 1.2490 - val_mean_squared_error: 1.2490\n",
      "Epoch 70/110\n",
      "43/43 [==============================] - 2s 39ms/step - loss: 1.2516 - mean_squared_error: 1.2516 - val_loss: 1.2391 - val_mean_squared_error: 1.2391\n",
      "Epoch 71/110\n",
      "43/43 [==============================] - 2s 39ms/step - loss: 1.2535 - mean_squared_error: 1.2535 - val_loss: 1.2412 - val_mean_squared_error: 1.2412\n",
      "Epoch 72/110\n",
      "43/43 [==============================] - 2s 39ms/step - loss: 1.2553 - mean_squared_error: 1.2553 - val_loss: 1.2394 - val_mean_squared_error: 1.2394\n",
      "Epoch 73/110\n",
      "43/43 [==============================] - 2s 39ms/step - loss: 1.2538 - mean_squared_error: 1.2538 - val_loss: 1.2390 - val_mean_squared_error: 1.2390\n",
      "Epoch 74/110\n",
      "43/43 [==============================] - 2s 39ms/step - loss: 1.2572 - mean_squared_error: 1.2572 - val_loss: 1.2396 - val_mean_squared_error: 1.2396\n",
      "Epoch 75/110\n",
      "43/43 [==============================] - 2s 39ms/step - loss: 1.2550 - mean_squared_error: 1.2550 - val_loss: 1.2413 - val_mean_squared_error: 1.2413\n",
      "Epoch 76/110\n",
      "43/43 [==============================] - 2s 39ms/step - loss: 1.2535 - mean_squared_error: 1.2535 - val_loss: 1.2460 - val_mean_squared_error: 1.2460\n",
      "Epoch 77/110\n",
      "43/43 [==============================] - 2s 39ms/step - loss: 1.2554 - mean_squared_error: 1.2554 - val_loss: 1.2389 - val_mean_squared_error: 1.2389\n",
      "Epoch 78/110\n",
      "43/43 [==============================] - 2s 39ms/step - loss: 1.2562 - mean_squared_error: 1.2562 - val_loss: 1.2420 - val_mean_squared_error: 1.2420\n",
      "Epoch 79/110\n",
      "43/43 [==============================] - 2s 39ms/step - loss: 1.2522 - mean_squared_error: 1.2522 - val_loss: 1.2402 - val_mean_squared_error: 1.2402\n",
      "Epoch 80/110\n",
      "43/43 [==============================] - 2s 39ms/step - loss: 1.2536 - mean_squared_error: 1.2536 - val_loss: 1.2384 - val_mean_squared_error: 1.2384\n",
      "Epoch 81/110\n",
      "43/43 [==============================] - 2s 39ms/step - loss: 1.2515 - mean_squared_error: 1.2515 - val_loss: 1.2378 - val_mean_squared_error: 1.2378\n",
      "Epoch 82/110\n",
      "43/43 [==============================] - 2s 39ms/step - loss: 1.2561 - mean_squared_error: 1.2561 - val_loss: 1.2426 - val_mean_squared_error: 1.2426\n",
      "Epoch 83/110\n",
      "43/43 [==============================] - 2s 39ms/step - loss: 1.2632 - mean_squared_error: 1.2632 - val_loss: 1.2593 - val_mean_squared_error: 1.2593\n",
      "Epoch 84/110\n",
      "43/43 [==============================] - 2s 39ms/step - loss: 1.2732 - mean_squared_error: 1.2732 - val_loss: 1.2457 - val_mean_squared_error: 1.2457\n",
      "Epoch 85/110\n",
      "43/43 [==============================] - 2s 39ms/step - loss: 1.2535 - mean_squared_error: 1.2535 - val_loss: 1.2464 - val_mean_squared_error: 1.2464\n",
      "Epoch 86/110\n",
      "43/43 [==============================] - 2s 39ms/step - loss: 1.2542 - mean_squared_error: 1.2542 - val_loss: 1.2448 - val_mean_squared_error: 1.2448\n",
      "Epoch 87/110\n",
      "43/43 [==============================] - 2s 39ms/step - loss: 1.2510 - mean_squared_error: 1.2510 - val_loss: 1.2447 - val_mean_squared_error: 1.2447\n",
      "Epoch 88/110\n",
      "43/43 [==============================] - 2s 39ms/step - loss: 1.2514 - mean_squared_error: 1.2514 - val_loss: 1.2436 - val_mean_squared_error: 1.2436\n",
      "Epoch 89/110\n",
      "43/43 [==============================] - 2s 39ms/step - loss: 1.2509 - mean_squared_error: 1.2509 - val_loss: 1.2444 - val_mean_squared_error: 1.2444\n",
      "Epoch 90/110\n",
      "43/43 [==============================] - 2s 39ms/step - loss: 1.2507 - mean_squared_error: 1.2507 - val_loss: 1.2437 - val_mean_squared_error: 1.2437\n",
      "Epoch 91/110\n",
      "43/43 [==============================] - 2s 39ms/step - loss: 1.2544 - mean_squared_error: 1.2544 - val_loss: 1.2455 - val_mean_squared_error: 1.2455\n",
      "Epoch 92/110\n",
      "43/43 [==============================] - 2s 39ms/step - loss: 1.2529 - mean_squared_error: 1.2529 - val_loss: 1.2424 - val_mean_squared_error: 1.2424\n",
      "Epoch 93/110\n",
      "43/43 [==============================] - 2s 39ms/step - loss: 1.2509 - mean_squared_error: 1.2509 - val_loss: 1.2414 - val_mean_squared_error: 1.2414\n",
      "Epoch 94/110\n",
      "43/43 [==============================] - 2s 39ms/step - loss: 1.2517 - mean_squared_error: 1.2517 - val_loss: 1.2421 - val_mean_squared_error: 1.2421\n",
      "Epoch 95/110\n",
      "43/43 [==============================] - 2s 39ms/step - loss: 1.2523 - mean_squared_error: 1.2523 - val_loss: 1.2455 - val_mean_squared_error: 1.2455\n",
      "Epoch 96/110\n",
      "43/43 [==============================] - 2s 39ms/step - loss: 1.2542 - mean_squared_error: 1.2542 - val_loss: 1.2412 - val_mean_squared_error: 1.2412\n",
      "Epoch 97/110\n",
      "43/43 [==============================] - 2s 39ms/step - loss: 1.2521 - mean_squared_error: 1.2521 - val_loss: 1.2432 - val_mean_squared_error: 1.2432\n",
      "Epoch 98/110\n",
      "43/43 [==============================] - 2s 39ms/step - loss: 1.2495 - mean_squared_error: 1.2495 - val_loss: 1.2423 - val_mean_squared_error: 1.2423\n",
      "Epoch 99/110\n",
      "43/43 [==============================] - 2s 39ms/step - loss: 1.2539 - mean_squared_error: 1.2539 - val_loss: 1.2445 - val_mean_squared_error: 1.2445\n",
      "Epoch 100/110\n",
      "43/43 [==============================] - 2s 39ms/step - loss: 1.2545 - mean_squared_error: 1.2545 - val_loss: 1.2427 - val_mean_squared_error: 1.2427\n",
      "Epoch 101/110\n",
      "43/43 [==============================] - 2s 39ms/step - loss: 1.2516 - mean_squared_error: 1.2516 - val_loss: 1.2407 - val_mean_squared_error: 1.2407\n",
      "Epoch 102/110\n",
      "43/43 [==============================] - 2s 39ms/step - loss: 1.2507 - mean_squared_error: 1.2507 - val_loss: 1.2438 - val_mean_squared_error: 1.2438\n",
      "Epoch 103/110\n",
      "43/43 [==============================] - 2s 39ms/step - loss: 1.2520 - mean_squared_error: 1.2520 - val_loss: 1.2433 - val_mean_squared_error: 1.2433\n",
      "Epoch 104/110\n",
      "43/43 [==============================] - 2s 39ms/step - loss: 1.2499 - mean_squared_error: 1.2499 - val_loss: 1.2408 - val_mean_squared_error: 1.2408\n",
      "Epoch 105/110\n",
      "43/43 [==============================] - 2s 39ms/step - loss: 1.2494 - mean_squared_error: 1.2494 - val_loss: 1.2406 - val_mean_squared_error: 1.2406\n",
      "Epoch 106/110\n",
      "43/43 [==============================] - 2s 39ms/step - loss: 1.2522 - mean_squared_error: 1.2522 - val_loss: 1.2366 - val_mean_squared_error: 1.2366\n",
      "Epoch 107/110\n",
      "43/43 [==============================] - 2s 39ms/step - loss: 1.2524 - mean_squared_error: 1.2524 - val_loss: 1.2419 - val_mean_squared_error: 1.2419\n",
      "Epoch 108/110\n",
      "43/43 [==============================] - 2s 39ms/step - loss: 1.2537 - mean_squared_error: 1.2537 - val_loss: 1.2438 - val_mean_squared_error: 1.2438\n",
      "Epoch 109/110\n",
      "43/43 [==============================] - 2s 39ms/step - loss: 1.2495 - mean_squared_error: 1.2495 - val_loss: 1.2429 - val_mean_squared_error: 1.2429\n",
      "Epoch 110/110\n",
      "43/43 [==============================] - 2s 39ms/step - loss: 1.2498 - mean_squared_error: 1.2498 - val_loss: 1.2413 - val_mean_squared_error: 1.2413\n"
     ]
    }
   ],
   "source": [
    "fine_tune_epochs = 100\n",
    "total_epochs =  initial_epochs + fine_tune_epochs\n",
    "\n",
    "history_fine = model.fit(train_dataset,\n",
    "                         epochs=total_epochs,\n",
    "                         initial_epoch=history.epoch[-1],\n",
    "                         validation_data=validation_dataset)"
   ]
  },
  {
   "cell_type": "code",
   "execution_count": 166,
   "id": "329f12a0-576d-4e90-8392-43e4de5a8832",
   "metadata": {},
   "outputs": [],
   "source": [
    "acc += history_fine.history['mean_squared_error']\n",
    "val_acc += history_fine.history['val_mean_squared_error']\n",
    "\n",
    "loss += history_fine.history['loss']\n",
    "val_loss += history_fine.history['val_loss']"
   ]
  },
  {
   "cell_type": "code",
   "execution_count": 171,
   "id": "9df46bfa-f4fd-4681-92f9-995943b0c612",
   "metadata": {},
   "outputs": [],
   "source": [
    "plt.close()"
   ]
  },
  {
   "cell_type": "code",
   "execution_count": 172,
   "id": "8ce2bdf4-5536-4e87-b64d-3684d26f26ae",
   "metadata": {},
   "outputs": [
    {
     "data": {
      "image/png": "[encoded data removed]",
      "text/plain": [
       "<Figure size 800x800 with 2 Axes>"
      ]
     },
     "metadata": {},
     "output_type": "display_data"
    }
   ],
   "source": [
    "plt.figure(figsize=(8, 8))\n",
    "plt.subplot(2, 1, 1)\n",
    "plt.plot(acc, label='Training MSE')\n",
    "plt.plot(val_acc, label='Validation MSE')\n",
    "#plt.ylim([0.8, 1])\n",
    "plt.plot([initial_epochs-1,initial_epochs-1], label='Start Fine Tuning')\n",
    "# plt.ylim()\n",
    "plt.legend(loc='upper left')\n",
    "plt.title('Training and Validation MSE')\n",
    "\n",
    "plt.subplot(2, 1, 2)\n",
    "plt.plot(loss, label='Training Loss')\n",
    "plt.plot(val_loss, label='Validation Loss')\n",
    "#plt.ylim([0, 1.0])\n",
    "plt.plot([initial_epochs-1,initial_epochs-1],label='Start Fine Tuning')\n",
    "#plt.ylim(), label='Start Fine Tuning')\n",
    "plt.legend(loc='upper right')\n",
    "plt.title('Training and Validation Loss')\n",
    "plt.xlabel('epoch')\n",
    "plt.show()"
   ]
  },
  {
   "cell_type": "code",
   "execution_count": null,
   "id": "67bf29c9-01de-4c2d-8aae-2bfbfbabd1c1",
   "metadata": {},
   "outputs": [],
   "source": []
  }
 ],
 "metadata": {
  "kernelspec": {
   "display_name": "Python 3",
   "language": "python",
   "name": "python3"
  },
  "language_info": {
   "codemirror_mode": {
    "name": "ipython",
    "version": 3
   },
   "file_extension": ".py",
   "mimetype": "text/x-python",
   "name": "python",
   "nbconvert_exporter": "python",
   "pygments_lexer": "ipython3",
   "version": "3.8.0"
  }
 },
 "nbformat": 4,
 "nbformat_minor": 5
}
